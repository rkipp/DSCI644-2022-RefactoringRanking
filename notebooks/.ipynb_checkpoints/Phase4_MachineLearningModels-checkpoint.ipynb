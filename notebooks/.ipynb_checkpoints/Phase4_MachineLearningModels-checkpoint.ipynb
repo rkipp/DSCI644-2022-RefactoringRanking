{
 "cells": [
  {
   "cell_type": "code",
   "execution_count": null,
   "metadata": {},
   "outputs": [],
   "source": [
    "import pandas as pd\n",
    "import numpy as np\n",
    "from numpy import mean\n",
    "from sklearn.datasets import make_classification\n",
    "from sklearn.model_selection import cross_val_score\n",
    "from sklearn.model_selection import RepeatedStratifiedKFold\n",
    "from sklearn.ensemble import BaggingClassifier\n",
    "from sklearn.svm import SVC\n",
    "from sklearn import preprocessing\n",
    "from sklearn.model_selection import train_test_split\n",
    "from sklearn.ensemble import RandomForestClassifier\n",
    "from sklearn import metrics\n",
    "from sklearn.metrics import classification_report, confusion_matrix, accuracy_score\n",
    "from sklearn.model_selection import cross_val_score"
   ]
  },
  {
   "cell_type": "code",
   "execution_count": null,
   "metadata": {},
   "outputs": [],
   "source": [
    "raw = pd.read_csv('./Data/df_design_matrix.csv')\n",
    "print(raw.columns)\n",
    "features = ['RefactoringType', 'L1', 'L2', 'L3', 'L4', 'L5', 'L6']\n",
    "output = 'AuthorGroup'\n",
    "df = raw[['RefactoringType', 'L1', 'L2', 'L3', 'L4', 'L5', 'L6', 'AuthorGroup']]"
   ]
  },
  {
   "cell_type": "code",
   "execution_count": null,
   "metadata": {},
   "outputs": [],
   "source": [
    "le = {}\n",
    "for col in features:\n",
    "    le[col] = preprocessing.LabelEncoder()\n",
    "    le[col].fit(raw[col])\n",
    "    df[col] = le[col].transform(raw[col])\n",
    "le[output] = preprocessing.LabelEncoder()\n",
    "le[output].fit(raw[output])\n",
    "df[output] = le[output].transform(raw[output])"
   ]
  },
  {
   "cell_type": "code",
   "execution_count": null,
   "metadata": {},
   "outputs": [],
   "source": [
    "X_train, X_test, y_train, y_test = train_test_split(df[features], df[output], test_size=.33, random_state=42)"
   ]
  },
  {
   "cell_type": "code",
   "execution_count": null,
   "metadata": {},
   "outputs": [],
   "source": [
    "\n",
    "\n",
    "clf = RandomForestClassifier(n_estimators=20, random_state=42)\n",
    "clf.fit(X_train, y_train)\n",
    "y_pred = clf.predict(X_test)\n",
    "\n",
    "print('Mean Absolute Error:', metrics.mean_absolute_error(y_test, y_pred))\n",
    "print('Mean Squared Error:', metrics.mean_squared_error(y_test, y_pred))\n",
    "print('Root Mean Squared Error:', np.sqrt(metrics.mean_squared_error(y_test, y_pred)))\n",
    "\n",
    "\n",
    "print(confusion_matrix(le['AuthorGroup'].inverse_transform(y_test),le['AuthorGroup'].inverse_transform(y_pred)))\n",
    "print(classification_report(le['AuthorGroup'].inverse_transform(y_test),le['AuthorGroup'].inverse_transform(y_pred)))\n",
    "print(accuracy_score(le['AuthorGroup'].inverse_transform(y_test),le['AuthorGroup'].inverse_transform(y_pred)))\n"
   ]
  },
  {
   "cell_type": "code",
   "execution_count": null,
   "metadata": {},
   "outputs": [],
   "source": [
    "le['AuthorGroup'].inverse_transform([0,1,2,3])"
   ]
  },
  {
   "cell_type": "code",
   "execution_count": null,
   "metadata": {},
   "outputs": [],
   "source": [
    "\n",
    "scores = cross_val_score(clf, df[features], df[output], cv=10, random_state=42)\n",
    "scores"
   ]
  },
  {
   "cell_type": "code",
   "execution_count": null,
   "metadata": {},
   "outputs": [],
   "source": []
  }
 ],
 "metadata": {
  "kernelspec": {
   "display_name": "Python 3",
   "language": "python",
   "name": "python3"
  },
  "language_info": {
   "codemirror_mode": {
    "name": "ipython",
    "version": 3
   },
   "file_extension": ".py",
   "mimetype": "text/x-python",
   "name": "python",
   "nbconvert_exporter": "python",
   "pygments_lexer": "ipython3",
   "version": "3.9.1"
  }
 },
 "nbformat": 4,
 "nbformat_minor": 4
}
