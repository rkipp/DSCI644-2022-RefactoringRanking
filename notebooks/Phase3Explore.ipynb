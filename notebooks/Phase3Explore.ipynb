{
 "cells": [
  {
   "cell_type": "code",
   "execution_count": null,
   "id": "e5b7a918",
   "metadata": {},
   "outputs": [],
   "source": []
  },
  {
   "cell_type": "code",
   "execution_count": null,
   "id": "b1ad739c",
   "metadata": {},
   "outputs": [],
   "source": []
  },
  {
   "cell_type": "code",
   "execution_count": 1,
   "id": "7cfff66a",
   "metadata": {},
   "outputs": [
    {
     "data": {
      "text/html": [
       "<div>\n",
       "<style scoped>\n",
       "    .dataframe tbody tr th:only-of-type {\n",
       "        vertical-align: middle;\n",
       "    }\n",
       "\n",
       "    .dataframe tbody tr th {\n",
       "        vertical-align: top;\n",
       "    }\n",
       "\n",
       "    .dataframe thead th {\n",
       "        text-align: right;\n",
       "    }\n",
       "</style>\n",
       "<table border=\"1\" class=\"dataframe\">\n",
       "  <thead>\n",
       "    <tr style=\"text-align: right;\">\n",
       "      <th></th>\n",
       "      <th>Name</th>\n",
       "      <th>CommitId</th>\n",
       "      <th>RefactoringType</th>\n",
       "      <th>FilePath</th>\n",
       "      <th>Class</th>\n",
       "      <th>RefactoringDetail</th>\n",
       "      <th>Message</th>\n",
       "      <th>AuthorName</th>\n",
       "      <th>AuthorEmail</th>\n",
       "    </tr>\n",
       "  </thead>\n",
       "  <tbody>\n",
       "    <tr>\n",
       "      <th>0</th>\n",
       "      <td>hibernate$hibernate-validator</td>\n",
       "      <td>a3af1683e63c9c800f486552e7e5002c24b6712b</td>\n",
       "      <td>Move Source Folder</td>\n",
       "      <td>src</td>\n",
       "      <td>NaN</td>\n",
       "      <td>Move Source Folder\\tsrc to hibernate-validator...</td>\n",
       "      <td>Moved the legacy validator code into hibernate...</td>\n",
       "      <td>Hardy Ferentschik</td>\n",
       "      <td>hibernate@ferentschik.de</td>\n",
       "    </tr>\n",
       "    <tr>\n",
       "      <th>1</th>\n",
       "      <td>hibernate$hibernate-validator</td>\n",
       "      <td>6d6c3deaf0b499e06077383d8d3add43f30ba099</td>\n",
       "      <td>Move Source Folder</td>\n",
       "      <td>hibernate-validator-legacy/src</td>\n",
       "      <td>NaN</td>\n",
       "      <td>Move Source Folder\\thibernate-validator-legacy...</td>\n",
       "      <td>Refactored build so that compile and test can ...</td>\n",
       "      <td>Hardy Ferentschik</td>\n",
       "      <td>hibernate@ferentschik.de</td>\n",
       "    </tr>\n",
       "    <tr>\n",
       "      <th>2</th>\n",
       "      <td>hibernate$hibernate-validator</td>\n",
       "      <td>6d6c3deaf0b499e06077383d8d3add43f30ba099</td>\n",
       "      <td>Move Source Folder</td>\n",
       "      <td>hibernate-validator-legacy/src/test</td>\n",
       "      <td>NaN</td>\n",
       "      <td>Move Source Folder\\thibernate-validator-legacy...</td>\n",
       "      <td>Refactored build so that compile and test can ...</td>\n",
       "      <td>Hardy Ferentschik</td>\n",
       "      <td>hibernate@ferentschik.de</td>\n",
       "    </tr>\n",
       "    <tr>\n",
       "      <th>3</th>\n",
       "      <td>hibernate$hibernate-validator</td>\n",
       "      <td>25350de39ef9484997999f6e6d8f00abc5d51546</td>\n",
       "      <td>Extract Variable</td>\n",
       "      <td>hibernate-validator/src/main/java/org/hibernat...</td>\n",
       "      <td>org.hibernate.validation.engine.ValidatorImpl</td>\n",
       "      <td>Extract Variable\\tleafBeanInstance : Object in...</td>\n",
       "      <td>BVAL-37 ConstraintDescriptor.getLeafValue()\\n\\...</td>\n",
       "      <td>Emmanuel Bernard</td>\n",
       "      <td>emmanuel@hibernate.org</td>\n",
       "    </tr>\n",
       "    <tr>\n",
       "      <th>4</th>\n",
       "      <td>hibernate$hibernate-validator</td>\n",
       "      <td>25350de39ef9484997999f6e6d8f00abc5d51546</td>\n",
       "      <td>Rename Method</td>\n",
       "      <td>hibernate-validator/src/main/java/org/hibernat...</td>\n",
       "      <td>org.hibernate.validation.engine.ValidatorImpl</td>\n",
       "      <td>Rename Method\\tpublic getBeanConstraints() : E...</td>\n",
       "      <td>BVAL-37 ConstraintDescriptor.getLeafValue()\\n\\...</td>\n",
       "      <td>Emmanuel Bernard</td>\n",
       "      <td>emmanuel@hibernate.org</td>\n",
       "    </tr>\n",
       "  </tbody>\n",
       "</table>\n",
       "</div>"
      ],
      "text/plain": [
       "                            Name                                  CommitId  \\\n",
       "0  hibernate$hibernate-validator  a3af1683e63c9c800f486552e7e5002c24b6712b   \n",
       "1  hibernate$hibernate-validator  6d6c3deaf0b499e06077383d8d3add43f30ba099   \n",
       "2  hibernate$hibernate-validator  6d6c3deaf0b499e06077383d8d3add43f30ba099   \n",
       "3  hibernate$hibernate-validator  25350de39ef9484997999f6e6d8f00abc5d51546   \n",
       "4  hibernate$hibernate-validator  25350de39ef9484997999f6e6d8f00abc5d51546   \n",
       "\n",
       "      RefactoringType                                           FilePath  \\\n",
       "0  Move Source Folder                                                src   \n",
       "1  Move Source Folder                     hibernate-validator-legacy/src   \n",
       "2  Move Source Folder                hibernate-validator-legacy/src/test   \n",
       "3    Extract Variable  hibernate-validator/src/main/java/org/hibernat...   \n",
       "4       Rename Method  hibernate-validator/src/main/java/org/hibernat...   \n",
       "\n",
       "                                           Class  \\\n",
       "0                                            NaN   \n",
       "1                                            NaN   \n",
       "2                                            NaN   \n",
       "3  org.hibernate.validation.engine.ValidatorImpl   \n",
       "4  org.hibernate.validation.engine.ValidatorImpl   \n",
       "\n",
       "                                   RefactoringDetail  \\\n",
       "0  Move Source Folder\\tsrc to hibernate-validator...   \n",
       "1  Move Source Folder\\thibernate-validator-legacy...   \n",
       "2  Move Source Folder\\thibernate-validator-legacy...   \n",
       "3  Extract Variable\\tleafBeanInstance : Object in...   \n",
       "4  Rename Method\\tpublic getBeanConstraints() : E...   \n",
       "\n",
       "                                             Message         AuthorName  \\\n",
       "0  Moved the legacy validator code into hibernate...  Hardy Ferentschik   \n",
       "1  Refactored build so that compile and test can ...  Hardy Ferentschik   \n",
       "2  Refactored build so that compile and test can ...  Hardy Ferentschik   \n",
       "3  BVAL-37 ConstraintDescriptor.getLeafValue()\\n\\...   Emmanuel Bernard   \n",
       "4  BVAL-37 ConstraintDescriptor.getLeafValue()\\n\\...   Emmanuel Bernard   \n",
       "\n",
       "                AuthorEmail  \n",
       "0  hibernate@ferentschik.de  \n",
       "1  hibernate@ferentschik.de  \n",
       "2  hibernate@ferentschik.de  \n",
       "3    emmanuel@hibernate.org  \n",
       "4    emmanuel@hibernate.org  "
      ]
     },
     "execution_count": 1,
     "metadata": {},
     "output_type": "execute_result"
    }
   ],
   "source": [
    "import numpy as np\n",
    "import pandas as pd\n",
    "import matplotlib.pyplot as plt\n",
    "\n",
    "# change this to point to wherever you've put the data\n",
    "data_dir = \"F:\\\\GoogleDrive\\\\ds_ml\\\\RIT\\\\2022-01 DSCI.644\\\\project\\\\phase2\\\\\"\n",
    "data_path = data_dir + \"project3-authors.csv\"\n",
    "df_raw = pd.read_csv(data_path)\n",
    "# df_raw.shape   # (17317, 9)\n",
    "# df_raw.columns # ['Name', 'CommitId', 'RefactoringType', 'FilePath', 'Class',\n",
    "#                   'RefactoringDetail', 'Message', 'AuthorName', 'AuthorEmail']\n",
    "# df_raw['Name'].unique()  # ['hibernate$hibernate-validator', 'eclipse$bpmn2-modeler',\n",
    "#                             'adangel$pmd']\n",
    "df_raw.head()"
   ]
  },
  {
   "cell_type": "code",
   "execution_count": 2,
   "id": "7ed2bfd7",
   "metadata": {},
   "outputs": [
    {
     "data": {
      "text/plain": [
       "Index(['Name', 'CommitId', 'RefactoringType', 'FilePath', 'Class',\n",
       "       'RefactoringDetail', 'Message', 'AuthorName', 'AuthorEmail'],\n",
       "      dtype='object')"
      ]
     },
     "execution_count": 2,
     "metadata": {},
     "output_type": "execute_result"
    }
   ],
   "source": [
    "df_raw.columns"
   ]
  },
  {
   "cell_type": "code",
   "execution_count": 3,
   "id": "ca0a875e",
   "metadata": {
    "scrolled": true
   },
   "outputs": [
    {
     "data": {
      "text/html": [
       "<div>\n",
       "<style scoped>\n",
       "    .dataframe tbody tr th:only-of-type {\n",
       "        vertical-align: middle;\n",
       "    }\n",
       "\n",
       "    .dataframe tbody tr th {\n",
       "        vertical-align: top;\n",
       "    }\n",
       "\n",
       "    .dataframe thead th {\n",
       "        text-align: right;\n",
       "    }\n",
       "</style>\n",
       "<table border=\"1\" class=\"dataframe\">\n",
       "  <thead>\n",
       "    <tr style=\"text-align: right;\">\n",
       "      <th></th>\n",
       "      <th>Name</th>\n",
       "      <th>CommitId</th>\n",
       "      <th>RefactoringType</th>\n",
       "      <th>FilePath</th>\n",
       "      <th>Class</th>\n",
       "      <th>RefactoringDetail</th>\n",
       "      <th>Message</th>\n",
       "      <th>AuthorName</th>\n",
       "      <th>AuthorEmail</th>\n",
       "    </tr>\n",
       "  </thead>\n",
       "  <tbody>\n",
       "    <tr>\n",
       "      <th>5394</th>\n",
       "      <td>hibernate$hibernate-validator</td>\n",
       "      <td>9e0626b8318ba4bdf55580aacae3947410278129</td>\n",
       "      <td>Extract Variable</td>\n",
       "      <td>engine/src/main/java/org/hibernate/validator/i...</td>\n",
       "      <td>org.hibernate.validator.internal.engine.Valida...</td>\n",
       "      <td>Extract Variable\\tbeanMetaData : BeanMetaData&lt;...</td>\n",
       "      <td>HV-1681 Separate out bean metadata aware Value...</td>\n",
       "      <td>marko-bekhta</td>\n",
       "      <td>marko.prykladna@gmail.com</td>\n",
       "    </tr>\n",
       "    <tr>\n",
       "      <th>5395</th>\n",
       "      <td>hibernate$hibernate-validator</td>\n",
       "      <td>9e0626b8318ba4bdf55580aacae3947410278129</td>\n",
       "      <td>Move Class</td>\n",
       "      <td>engine/src/main/java/org/hibernate/validator/i...</td>\n",
       "      <td>org.hibernate.validator.internal.engine.ValueC...</td>\n",
       "      <td>Move Class\\torg.hibernate.validator.internal.e...</td>\n",
       "      <td>HV-1681 Separate out bean metadata aware Value...</td>\n",
       "      <td>marko-bekhta</td>\n",
       "      <td>marko.prykladna@gmail.com</td>\n",
       "    </tr>\n",
       "    <tr>\n",
       "      <th>5396</th>\n",
       "      <td>hibernate$hibernate-validator</td>\n",
       "      <td>59372ef6b92138b0c6a347ea16cd655576715252</td>\n",
       "      <td>Rename Variable</td>\n",
       "      <td>engine/src/main/java/org/hibernate/validator/i...</td>\n",
       "      <td>org.hibernate.validator.internal.engine.valuee...</td>\n",
       "      <td>Rename Variable\\textractorDescriptorsToCache :...</td>\n",
       "      <td>HV-1684 Fix value extraction logic to avoid st...</td>\n",
       "      <td>Guillaume Smet</td>\n",
       "      <td>guillaume.smet@gmail.com</td>\n",
       "    </tr>\n",
       "    <tr>\n",
       "      <th>5397</th>\n",
       "      <td>hibernate$hibernate-validator</td>\n",
       "      <td>59372ef6b92138b0c6a347ea16cd655576715252</td>\n",
       "      <td>Rename Variable</td>\n",
       "      <td>engine/src/main/java/org/hibernate/validator/i...</td>\n",
       "      <td>org.hibernate.validator.internal.engine.valuee...</td>\n",
       "      <td>Rename Variable\\textractorDescriptorsToCache :...</td>\n",
       "      <td>HV-1684 Fix value extraction logic to avoid st...</td>\n",
       "      <td>Guillaume Smet</td>\n",
       "      <td>guillaume.smet@gmail.com</td>\n",
       "    </tr>\n",
       "    <tr>\n",
       "      <th>5398</th>\n",
       "      <td>hibernate$hibernate-validator</td>\n",
       "      <td>571ab96b9ea2b32c2597f0765f59da28f5c029d9</td>\n",
       "      <td>Rename Method</td>\n",
       "      <td>engine/src/main/java/org/hibernate/validator/i...</td>\n",
       "      <td>org.hibernate.validator.internal.engine.path.P...</td>\n",
       "      <td>Rename Method\\tpublic getPathWithoutLeafNode()...</td>\n",
       "      <td>HV-1691 Rename PathImpl#getPathWithoutLeafNode...</td>\n",
       "      <td>Guillaume Smet</td>\n",
       "      <td>guillaume.smet@gmail.com</td>\n",
       "    </tr>\n",
       "  </tbody>\n",
       "</table>\n",
       "</div>"
      ],
      "text/plain": [
       "                               Name                                  CommitId  \\\n",
       "5394  hibernate$hibernate-validator  9e0626b8318ba4bdf55580aacae3947410278129   \n",
       "5395  hibernate$hibernate-validator  9e0626b8318ba4bdf55580aacae3947410278129   \n",
       "5396  hibernate$hibernate-validator  59372ef6b92138b0c6a347ea16cd655576715252   \n",
       "5397  hibernate$hibernate-validator  59372ef6b92138b0c6a347ea16cd655576715252   \n",
       "5398  hibernate$hibernate-validator  571ab96b9ea2b32c2597f0765f59da28f5c029d9   \n",
       "\n",
       "       RefactoringType                                           FilePath  \\\n",
       "5394  Extract Variable  engine/src/main/java/org/hibernate/validator/i...   \n",
       "5395        Move Class  engine/src/main/java/org/hibernate/validator/i...   \n",
       "5396   Rename Variable  engine/src/main/java/org/hibernate/validator/i...   \n",
       "5397   Rename Variable  engine/src/main/java/org/hibernate/validator/i...   \n",
       "5398     Rename Method  engine/src/main/java/org/hibernate/validator/i...   \n",
       "\n",
       "                                                  Class  \\\n",
       "5394  org.hibernate.validator.internal.engine.Valida...   \n",
       "5395  org.hibernate.validator.internal.engine.ValueC...   \n",
       "5396  org.hibernate.validator.internal.engine.valuee...   \n",
       "5397  org.hibernate.validator.internal.engine.valuee...   \n",
       "5398  org.hibernate.validator.internal.engine.path.P...   \n",
       "\n",
       "                                      RefactoringDetail  \\\n",
       "5394  Extract Variable\\tbeanMetaData : BeanMetaData<...   \n",
       "5395  Move Class\\torg.hibernate.validator.internal.e...   \n",
       "5396  Rename Variable\\textractorDescriptorsToCache :...   \n",
       "5397  Rename Variable\\textractorDescriptorsToCache :...   \n",
       "5398  Rename Method\\tpublic getPathWithoutLeafNode()...   \n",
       "\n",
       "                                                Message      AuthorName  \\\n",
       "5394  HV-1681 Separate out bean metadata aware Value...    marko-bekhta   \n",
       "5395  HV-1681 Separate out bean metadata aware Value...    marko-bekhta   \n",
       "5396  HV-1684 Fix value extraction logic to avoid st...  Guillaume Smet   \n",
       "5397  HV-1684 Fix value extraction logic to avoid st...  Guillaume Smet   \n",
       "5398  HV-1691 Rename PathImpl#getPathWithoutLeafNode...  Guillaume Smet   \n",
       "\n",
       "                    AuthorEmail  \n",
       "5394  marko.prykladna@gmail.com  \n",
       "5395  marko.prykladna@gmail.com  \n",
       "5396   guillaume.smet@gmail.com  \n",
       "5397   guillaume.smet@gmail.com  \n",
       "5398   guillaume.smet@gmail.com  "
      ]
     },
     "execution_count": 3,
     "metadata": {},
     "output_type": "execute_result"
    }
   ],
   "source": [
    "# filter for just the hibernate$hibernate-validator rows\n",
    "df_hiber = df_raw[df_raw['Name'] == \"hibernate$hibernate-validator\"].copy()\n",
    "df_adangle = df_raw[df_raw['Name'] == \"adangel$pmd\"].copy()\n",
    "# df_hiber.shape  # (5399, 9) same row count as reported in phase 1 report, check\n",
    "df_hiber.tail()"
   ]
  },
  {
   "cell_type": "code",
   "execution_count": null,
   "id": "4a0c3b93",
   "metadata": {},
   "outputs": [],
   "source": []
  },
  {
   "cell_type": "code",
   "execution_count": null,
   "id": "1b1854b7",
   "metadata": {},
   "outputs": [],
   "source": []
  },
  {
   "cell_type": "code",
   "execution_count": 4,
   "id": "43d91ef8",
   "metadata": {},
   "outputs": [],
   "source": [
    "# how many records do we lose if we drop rows with empty commit messages"
   ]
  },
  {
   "cell_type": "markdown",
   "id": "959ce362",
   "metadata": {},
   "source": [
    "# Feature Creation\n",
    "\n",
    "## Features determined from adangel analysis\n",
    "\n",
    "+ Authors - Response, ?? committers, may want to group by commit frequency as there are many of them\n",
    "+ RefactoringTypes - ?? types\n",
    "+ FilePath - How do we build a logical feature from this?\n",
    "  - vector representation: cosine similarity should be higher among paths that share more path elements\n",
    "  - e.g. if path 1 = a/b/c/d, path 2 = a/b/c/e, path 3 a/b/m/n then path 1 would have a higher cosine similarity to path 2 than to path 3."
   ]
  },
  {
   "cell_type": "code",
   "execution_count": 6,
   "id": "261300b6",
   "metadata": {},
   "outputs": [
    {
     "data": {
      "text/plain": [
       "set()"
      ]
     },
     "execution_count": 6,
     "metadata": {},
     "output_type": "execute_result"
    }
   ],
   "source": [
    "# how are refactoring types distributed, do they differ between projects\n",
    "refactor_types_hiber = df_hiber['RefactoringType'].value_counts()\n",
    "refactor_types_adangle = df_adangle['RefactoringType'].value_counts()\n",
    "# refactor_types.shape  # 27 types, should be same for all project\n",
    "refactor_types_hiber = set(refactor_types_hiber.index)\n",
    "refactor_types_adangle = set(refactor_types_adangle.index)\n",
    "# len(refactor_types_adangle), len(refactor_types_hiber)\n",
    "common_refactors = refactor_types_adangle.intersection(refactor_types_hiber)\n",
    "different_refactors = refactor_types_adangle.difference(refactor_types_hiber)\n",
    "# common_refactors\n",
    "different_refactors  # empty set = no difference"
   ]
  },
  {
   "cell_type": "code",
   "execution_count": 7,
   "id": "e688ec0d",
   "metadata": {
    "scrolled": true
   },
   "outputs": [
    {
     "data": {
      "text/plain": [
       "engine/src/main/java/org/hibernate/validator/internal/engine/ValidatorImpl.java                                      131\n",
       "engine/src/main/java/org/hibernate/validator/internal/metadata/provider/AnnotationMetaDataProvider.java               98\n",
       "engine/src/main/java/org/hibernate/validator/internal/engine/ConfigurationImpl.java                                   96\n",
       "hibernate-validator/src/main/java/org/hibernate/validator/engine/ValidatorImpl.java                                   84\n",
       "hibernate-validator/src/main/java/org/hibernate/validation/engine/ValidatorImpl.java                                  75\n",
       "engine/src/main/java/org/hibernate/validator/internal/engine/ValidatorFactoryImpl.java                                70\n",
       "hibernate-validator/src/main/java/org/hibernate/validator/metadata/BeanMetaDataImpl.java                              51\n",
       "engine/src/main/java/org/hibernate/validator/internal/engine/constraintvalidation/ConstraintValidatorManager.java     48\n",
       "engine/src/main/java/org/hibernate/validator/internal/util/ReflectionHelper.java                                      48\n",
       "engine/src/main/java/org/hibernate/validator/internal/metadata/aggregated/BeanMetaDataImpl.java                       47\n",
       "Name: FilePath, dtype: int64"
      ]
     },
     "execution_count": 7,
     "metadata": {},
     "output_type": "execute_result"
    }
   ],
   "source": [
    "# how are file paths distributed\n",
    "file_types = df_hiber['FilePath'].value_counts()\n",
    "# file_types.shape  # 3139 types\n",
    "file_types.head(10)"
   ]
  },
  {
   "cell_type": "code",
   "execution_count": 14,
   "id": "2b7f77f4",
   "metadata": {
    "scrolled": true
   },
   "outputs": [
    {
     "data": {
      "text/plain": [
       "Hardy Ferentschik            1641\n",
       "Gunnar Morling               1538\n",
       "Guillaume Smet               1295\n",
       "marko bekhta                  329\n",
       "Emmanuel Bernard              234\n",
       "Kevin Pollet                  115\n",
       "Khalid Alqinyah                96\n",
       "stawny                         31\n",
       "Victor Rezende dos Santos      29\n",
       "Yoann Rodière                  28\n",
       "kevin pollet                   19\n",
       "George Gastaldi                10\n",
       "Davide D'Alto                  10\n",
       "Brent Douglas                   5\n",
       "Chris Beckey                    5\n",
       "Nicola Ferraro                  3\n",
       "Shane Bryzak                    3\n",
       "dernasherbrezon                 2\n",
       "Pete Muir                       2\n",
       "Matthias Kurz                   2\n",
       "Carlo de Wolf                   1\n",
       "Tomaz Cerar                     1\n",
       "Name: AuthorName, dtype: int64"
      ]
     },
     "execution_count": 14,
     "metadata": {},
     "output_type": "execute_result"
    }
   ],
   "source": [
    "pd.options.display.max_rows = None\n",
    "# how are authors distributed? but first, fix marko.bekhta\n",
    "df_hiber['AuthorName'] = df_hiber['AuthorName'].str.replace('.', ' ', regex=False)\n",
    "df_hiber['AuthorName'] = df_hiber['AuthorName'].str.replace('-', ' ', regex=False)\n",
    "authors = df_hiber['AuthorName'].value_counts()\n",
    "# authors.shape  # 23, much less than the 77 authors in adangel\n",
    "authors # order of magnitude drop over the first 10"
   ]
  },
  {
   "cell_type": "code",
   "execution_count": 15,
   "id": "e78db275",
   "metadata": {},
   "outputs": [
    {
     "data": {
      "text/plain": [
       "Text(0, 0.5, 'Developer Count')"
      ]
     },
     "execution_count": 15,
     "metadata": {},
     "output_type": "execute_result"
    },
    {
     "data": {
      "image/png": "[encoded data removed]",
      "text/plain": [
       "<Figure size 720x504 with 1 Axes>"
      ]
     },
     "metadata": {
      "needs_background": "light"
     },
     "output_type": "display_data"
    }
   ],
   "source": [
    "# histogram of committers\n",
    "fig, ax = plt.subplots(figsize = (10, 7))\n",
    "ax.hist(authors)\n",
    "ax.set_xlabel('Commit Count')\n",
    "ax.set_ylabel('Developer Count')"
   ]
  },
  {
   "cell_type": "code",
   "execution_count": 16,
   "id": "622d2f27",
   "metadata": {},
   "outputs": [
    {
     "data": {
      "text/plain": [
       "3"
      ]
     },
     "execution_count": 16,
     "metadata": {},
     "output_type": "execute_result"
    }
   ],
   "source": [
    "high_frequency_committers = authors[authors > 400]\n",
    "high_frequency_committers.shape[0]"
   ]
  },
  {
   "cell_type": "code",
   "execution_count": 17,
   "id": "4aadd187",
   "metadata": {},
   "outputs": [
    {
     "data": {
      "text/plain": [
       "3"
      ]
     },
     "execution_count": 17,
     "metadata": {},
     "output_type": "execute_result"
    }
   ],
   "source": [
    "med_high_frequency_committers = authors[(authors > 100) & (authors <= 400)]\n",
    "med_high_frequency_committers.shape[0]"
   ]
  },
  {
   "cell_type": "code",
   "execution_count": 18,
   "id": "81329ff0",
   "metadata": {},
   "outputs": [
    {
     "data": {
      "text/plain": [
       "4"
      ]
     },
     "execution_count": 18,
     "metadata": {},
     "output_type": "execute_result"
    }
   ],
   "source": [
    "med_frequency_committers = authors[(authors > 25) & (authors <= 100)]\n",
    "med_frequency_committers.shape[0]"
   ]
  },
  {
   "cell_type": "code",
   "execution_count": 19,
   "id": "f24c3360",
   "metadata": {},
   "outputs": [
    {
     "data": {
      "text/plain": [
       "12"
      ]
     },
     "execution_count": 19,
     "metadata": {},
     "output_type": "execute_result"
    }
   ],
   "source": [
    "low_frequency_committers = authors[authors <= 25]\n",
    "low_frequency_committers.shape[0]"
   ]
  },
  {
   "cell_type": "code",
   "execution_count": null,
   "id": "42f3fb42",
   "metadata": {},
   "outputs": [],
   "source": [
    "less_frequent_committers = authors[authors < 400]  # less_frequent_committers.shape = 71\n",
    "fig2, ax2 = plt.subplots(figsize = (10, 7))\n",
    "ax2.hist(less_frequent_committers)  # turtles all the way down  ;-)"
   ]
  },
  {
   "cell_type": "code",
   "execution_count": null,
   "id": "40cfd5c0",
   "metadata": {},
   "outputs": [],
   "source": [
    "least_frequent_committers = authors[authors < 50]  # least_frequent_committers.shape = 59\n",
    "fig3, ax3 = plt.subplots(figsize = (10, 7))\n",
    "ax3.hist(least_frequent_committers)"
   ]
  },
  {
   "cell_type": "code",
   "execution_count": null,
   "id": "68ce5b2d",
   "metadata": {},
   "outputs": [],
   "source": [
    "# committer buckets\n",
    "high_frequency_committers.shape[0], med_high_frequency_committers.shape[0], med_frequency_committers.shape[0], low_frequency_committers.shape[0]"
   ]
  },
  {
   "cell_type": "markdown",
   "id": "c4845773",
   "metadata": {},
   "source": [
    "## The right research question\n",
    "\n",
    "Assumption - The high and medium high frequency committers can probably refactor request well.  The goal should be best utilize the medium and low frequency committers to off-load the higher frequency committers."
   ]
  },
  {
   "cell_type": "code",
   "execution_count": null,
   "id": "b0fff058",
   "metadata": {},
   "outputs": [],
   "source": []
  },
  {
   "cell_type": "code",
   "execution_count": null,
   "id": "0c6c27de",
   "metadata": {},
   "outputs": [],
   "source": []
  },
  {
   "cell_type": "code",
   "execution_count": null,
   "id": "6ec94908",
   "metadata": {},
   "outputs": [],
   "source": [
    "# how are classes distributed\n",
    "classes = df_adangle['Class'].value_counts()\n",
    "# classes.shape  # 3043\n",
    "# type(classes)  # pandas.core.series.Series\n",
    "classes.head(10)"
   ]
  },
  {
   "cell_type": "markdown",
   "id": "9ea33d7a",
   "metadata": {},
   "source": [
    "### Other data particulars\n",
    "\n",
    "+ There are multiple rows with the same CommitId so this field can not be used to identify unique rows in the data.\n",
    "+ Are there repeated rows?\n",
    "  - No, see below.\n",
    "+ what is the size of the vocabulary used in the `Message` column"
   ]
  },
  {
   "cell_type": "code",
   "execution_count": null,
   "id": "cfd8b74c",
   "metadata": {},
   "outputs": [],
   "source": [
    "## replace_with_space takes a string x and a list of characters removal_list \n",
    "## returns x with all the characters in removal_list replaced by ' '\n",
    "def replace_with_space(x, removal_list):\n",
    "    for w in removal_list:\n",
    "        x = x.replace(w, ' ')\n",
    "    return x"
   ]
  },
  {
   "cell_type": "code",
   "execution_count": null,
   "id": "bc916ed0",
   "metadata": {},
   "outputs": [],
   "source": [
    "import string  # to get access to punctuation chars\n",
    "\n",
    "# df_filtered.shape  # (8495, 9)\n",
    "# df_filtered.drop_duplicates(inplace=False)\n",
    "# df_filtered.shape  # (8495, 9) no change\n",
    "messages_raw = df_filtered['Message']\n",
    "# messages_raw.shape\n",
    "\n",
    "## Remove digits\n",
    "digits = [str(x) for x in range(10)]\n",
    "digit_less = [replace_with_space(x, digits) for x in messages_raw]\n",
    "## Remove punctuation\n",
    "punc_less = [replace_with_space(x, list(string.punctuation)) for x in digit_less]\n",
    "punc_less[0:5]  # lots empty/junky messages"
   ]
  },
  {
   "cell_type": "code",
   "execution_count": null,
   "id": "6a54eced",
   "metadata": {
    "scrolled": true
   },
   "outputs": [],
   "source": [
    "## clear messages that start with \"    empty log message\"\n",
    "empty_log = 'empty log message'\n",
    "clear_empty = ['' if x.__contains__(empty_log) else x for x in punc_less]\n",
    "clear_empty[100:150]"
   ]
  },
  {
   "cell_type": "code",
   "execution_count": null,
   "id": "ab43d61d",
   "metadata": {},
   "outputs": [],
   "source": []
  },
  {
   "cell_type": "code",
   "execution_count": null,
   "id": "09681618",
   "metadata": {},
   "outputs": [],
   "source": []
  },
  {
   "cell_type": "code",
   "execution_count": null,
   "id": "1c25ed93",
   "metadata": {},
   "outputs": [],
   "source": []
  },
  {
   "cell_type": "code",
   "execution_count": null,
   "id": "fa3fe26b",
   "metadata": {},
   "outputs": [],
   "source": []
  },
  {
   "cell_type": "code",
   "execution_count": null,
   "id": "fe0253f4",
   "metadata": {},
   "outputs": [],
   "source": []
  },
  {
   "cell_type": "code",
   "execution_count": null,
   "id": "902b6b3b",
   "metadata": {},
   "outputs": [],
   "source": []
  },
  {
   "cell_type": "code",
   "execution_count": null,
   "id": "7677a2fb",
   "metadata": {},
   "outputs": [],
   "source": []
  }
 ],
 "metadata": {
  "kernelspec": {
   "display_name": "Python 3 (ipykernel)",
   "language": "python",
   "name": "python3"
  },
  "language_info": {
   "codemirror_mode": {
    "name": "ipython",
    "version": 3
   },
   "file_extension": ".py",
   "mimetype": "text/x-python",
   "name": "python",
   "nbconvert_exporter": "python",
   "pygments_lexer": "ipython3",
   "version": "3.10.1"
  }
 },
 "nbformat": 4,
 "nbformat_minor": 5
}
