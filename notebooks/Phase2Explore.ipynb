{
 "cells": [
  {
   "cell_type": "code",
   "execution_count": null,
   "id": "e5b7a918",
   "metadata": {},
   "outputs": [],
   "source": []
  },
  {
   "cell_type": "code",
   "execution_count": null,
   "id": "b1ad739c",
   "metadata": {},
   "outputs": [],
   "source": []
  },
  {
   "cell_type": "code",
   "execution_count": 9,
   "id": "7cfff66a",
   "metadata": {},
   "outputs": [
    {
     "data": {
      "text/html": [
       "<div>\n",
       "<style scoped>\n",
       "    .dataframe tbody tr th:only-of-type {\n",
       "        vertical-align: middle;\n",
       "    }\n",
       "\n",
       "    .dataframe tbody tr th {\n",
       "        vertical-align: top;\n",
       "    }\n",
       "\n",
       "    .dataframe thead th {\n",
       "        text-align: right;\n",
       "    }\n",
       "</style>\n",
       "<table border=\"1\" class=\"dataframe\">\n",
       "  <thead>\n",
       "    <tr style=\"text-align: right;\">\n",
       "      <th></th>\n",
       "      <th>Name</th>\n",
       "      <th>CommitId</th>\n",
       "      <th>RefactoringType</th>\n",
       "      <th>FilePath</th>\n",
       "      <th>Class</th>\n",
       "      <th>RefactoringDetail</th>\n",
       "      <th>Message</th>\n",
       "      <th>AuthorName</th>\n",
       "      <th>AuthorEmail</th>\n",
       "    </tr>\n",
       "  </thead>\n",
       "  <tbody>\n",
       "    <tr>\n",
       "      <th>0</th>\n",
       "      <td>hibernate$hibernate-validator</td>\n",
       "      <td>a3af1683e63c9c800f486552e7e5002c24b6712b</td>\n",
       "      <td>Move Source Folder</td>\n",
       "      <td>src</td>\n",
       "      <td>NaN</td>\n",
       "      <td>Move Source Folder\\tsrc to hibernate-validator...</td>\n",
       "      <td>Moved the legacy validator code into hibernate...</td>\n",
       "      <td>Hardy Ferentschik</td>\n",
       "      <td>hibernate@ferentschik.de</td>\n",
       "    </tr>\n",
       "    <tr>\n",
       "      <th>1</th>\n",
       "      <td>hibernate$hibernate-validator</td>\n",
       "      <td>6d6c3deaf0b499e06077383d8d3add43f30ba099</td>\n",
       "      <td>Move Source Folder</td>\n",
       "      <td>hibernate-validator-legacy/src</td>\n",
       "      <td>NaN</td>\n",
       "      <td>Move Source Folder\\thibernate-validator-legacy...</td>\n",
       "      <td>Refactored build so that compile and test can ...</td>\n",
       "      <td>Hardy Ferentschik</td>\n",
       "      <td>hibernate@ferentschik.de</td>\n",
       "    </tr>\n",
       "    <tr>\n",
       "      <th>2</th>\n",
       "      <td>hibernate$hibernate-validator</td>\n",
       "      <td>6d6c3deaf0b499e06077383d8d3add43f30ba099</td>\n",
       "      <td>Move Source Folder</td>\n",
       "      <td>hibernate-validator-legacy/src/test</td>\n",
       "      <td>NaN</td>\n",
       "      <td>Move Source Folder\\thibernate-validator-legacy...</td>\n",
       "      <td>Refactored build so that compile and test can ...</td>\n",
       "      <td>Hardy Ferentschik</td>\n",
       "      <td>hibernate@ferentschik.de</td>\n",
       "    </tr>\n",
       "    <tr>\n",
       "      <th>3</th>\n",
       "      <td>hibernate$hibernate-validator</td>\n",
       "      <td>25350de39ef9484997999f6e6d8f00abc5d51546</td>\n",
       "      <td>Extract Variable</td>\n",
       "      <td>hibernate-validator/src/main/java/org/hibernat...</td>\n",
       "      <td>org.hibernate.validation.engine.ValidatorImpl</td>\n",
       "      <td>Extract Variable\\tleafBeanInstance : Object in...</td>\n",
       "      <td>BVAL-37 ConstraintDescriptor.getLeafValue()\\n\\...</td>\n",
       "      <td>Emmanuel Bernard</td>\n",
       "      <td>emmanuel@hibernate.org</td>\n",
       "    </tr>\n",
       "    <tr>\n",
       "      <th>4</th>\n",
       "      <td>hibernate$hibernate-validator</td>\n",
       "      <td>25350de39ef9484997999f6e6d8f00abc5d51546</td>\n",
       "      <td>Rename Method</td>\n",
       "      <td>hibernate-validator/src/main/java/org/hibernat...</td>\n",
       "      <td>org.hibernate.validation.engine.ValidatorImpl</td>\n",
       "      <td>Rename Method\\tpublic getBeanConstraints() : E...</td>\n",
       "      <td>BVAL-37 ConstraintDescriptor.getLeafValue()\\n\\...</td>\n",
       "      <td>Emmanuel Bernard</td>\n",
       "      <td>emmanuel@hibernate.org</td>\n",
       "    </tr>\n",
       "  </tbody>\n",
       "</table>\n",
       "</div>"
      ],
      "text/plain": [
       "                            Name                                  CommitId  \\\n",
       "0  hibernate$hibernate-validator  a3af1683e63c9c800f486552e7e5002c24b6712b   \n",
       "1  hibernate$hibernate-validator  6d6c3deaf0b499e06077383d8d3add43f30ba099   \n",
       "2  hibernate$hibernate-validator  6d6c3deaf0b499e06077383d8d3add43f30ba099   \n",
       "3  hibernate$hibernate-validator  25350de39ef9484997999f6e6d8f00abc5d51546   \n",
       "4  hibernate$hibernate-validator  25350de39ef9484997999f6e6d8f00abc5d51546   \n",
       "\n",
       "      RefactoringType                                           FilePath  \\\n",
       "0  Move Source Folder                                                src   \n",
       "1  Move Source Folder                     hibernate-validator-legacy/src   \n",
       "2  Move Source Folder                hibernate-validator-legacy/src/test   \n",
       "3    Extract Variable  hibernate-validator/src/main/java/org/hibernat...   \n",
       "4       Rename Method  hibernate-validator/src/main/java/org/hibernat...   \n",
       "\n",
       "                                           Class  \\\n",
       "0                                            NaN   \n",
       "1                                            NaN   \n",
       "2                                            NaN   \n",
       "3  org.hibernate.validation.engine.ValidatorImpl   \n",
       "4  org.hibernate.validation.engine.ValidatorImpl   \n",
       "\n",
       "                                   RefactoringDetail  \\\n",
       "0  Move Source Folder\\tsrc to hibernate-validator...   \n",
       "1  Move Source Folder\\thibernate-validator-legacy...   \n",
       "2  Move Source Folder\\thibernate-validator-legacy...   \n",
       "3  Extract Variable\\tleafBeanInstance : Object in...   \n",
       "4  Rename Method\\tpublic getBeanConstraints() : E...   \n",
       "\n",
       "                                             Message         AuthorName  \\\n",
       "0  Moved the legacy validator code into hibernate...  Hardy Ferentschik   \n",
       "1  Refactored build so that compile and test can ...  Hardy Ferentschik   \n",
       "2  Refactored build so that compile and test can ...  Hardy Ferentschik   \n",
       "3  BVAL-37 ConstraintDescriptor.getLeafValue()\\n\\...   Emmanuel Bernard   \n",
       "4  BVAL-37 ConstraintDescriptor.getLeafValue()\\n\\...   Emmanuel Bernard   \n",
       "\n",
       "                AuthorEmail  \n",
       "0  hibernate@ferentschik.de  \n",
       "1  hibernate@ferentschik.de  \n",
       "2  hibernate@ferentschik.de  \n",
       "3    emmanuel@hibernate.org  \n",
       "4    emmanuel@hibernate.org  "
      ]
     },
     "execution_count": 9,
     "metadata": {},
     "output_type": "execute_result"
    }
   ],
   "source": [
    "import numpy as np\n",
    "import pandas as pd\n",
    "import matplotlib.pyplot as plt\n",
    "\n",
    "# change this to point to wherever you've put the data\n",
    "data_dir = \"F:\\\\GoogleDrive\\\\ds_ml\\\\RIT\\\\2022-01 DSCI.644\\\\project\\\\phase2\\\\\"\n",
    "data_path = data_dir + \"project3-authors.csv\"\n",
    "df_raw = pd.read_csv(data_path)\n",
    "# df_raw.shape   # (17317, 9)\n",
    "# df_raw.columns # ['Name', 'CommitId', 'RefactoringType', 'FilePath', 'Class',\n",
    "#                   'RefactoringDetail', 'Message', 'AuthorName', 'AuthorEmail']\n",
    "# df_raw['Name'].unique()  # ['hibernate$hibernate-validator', 'eclipse$bpmn2-modeler',\n",
    "#                             'adangel$pmd']\n",
    "df_raw.head()"
   ]
  },
  {
   "cell_type": "code",
   "execution_count": 10,
   "id": "7ed2bfd7",
   "metadata": {},
   "outputs": [
    {
     "data": {
      "text/plain": [
       "Index(['Name', 'CommitId', 'RefactoringType', 'FilePath', 'Class',\n",
       "       'RefactoringDetail', 'Message', 'AuthorName', 'AuthorEmail'],\n",
       "      dtype='object')"
      ]
     },
     "execution_count": 10,
     "metadata": {},
     "output_type": "execute_result"
    }
   ],
   "source": [
    "df_raw.columns"
   ]
  },
  {
   "cell_type": "code",
   "execution_count": 11,
   "id": "ca0a875e",
   "metadata": {
    "scrolled": true
   },
   "outputs": [
    {
     "data": {
      "text/html": [
       "<div>\n",
       "<style scoped>\n",
       "    .dataframe tbody tr th:only-of-type {\n",
       "        vertical-align: middle;\n",
       "    }\n",
       "\n",
       "    .dataframe tbody tr th {\n",
       "        vertical-align: top;\n",
       "    }\n",
       "\n",
       "    .dataframe thead th {\n",
       "        text-align: right;\n",
       "    }\n",
       "</style>\n",
       "<table border=\"1\" class=\"dataframe\">\n",
       "  <thead>\n",
       "    <tr style=\"text-align: right;\">\n",
       "      <th></th>\n",
       "      <th>Name</th>\n",
       "      <th>CommitId</th>\n",
       "      <th>RefactoringType</th>\n",
       "      <th>FilePath</th>\n",
       "      <th>Class</th>\n",
       "      <th>RefactoringDetail</th>\n",
       "      <th>Message</th>\n",
       "      <th>AuthorName</th>\n",
       "      <th>AuthorEmail</th>\n",
       "    </tr>\n",
       "  </thead>\n",
       "  <tbody>\n",
       "    <tr>\n",
       "      <th>17312</th>\n",
       "      <td>adangel$pmd</td>\n",
       "      <td>a5f131cc4cfe59a7da3cd220353c402d3c612d76</td>\n",
       "      <td>Rename Method</td>\n",
       "      <td>pmd-ui/src/main/java/net/sourceforge/pmd/util/...</td>\n",
       "      <td>net.sourceforge.pmd.util.fxdesigner.popups.Eve...</td>\n",
       "      <td>Rename Method\\tprivate bindPopupToController()...</td>\n",
       "      <td>Fix caching logic\\n</td>\n",
       "      <td>Clément Fournier</td>\n",
       "      <td>clement.fournier76@gmail.com</td>\n",
       "    </tr>\n",
       "    <tr>\n",
       "      <th>17313</th>\n",
       "      <td>adangel$pmd</td>\n",
       "      <td>5a2202319f90080e9980735a37e4eb8e948d2f0f</td>\n",
       "      <td>Extract Method</td>\n",
       "      <td>pmd-ui/src/main/java/net/sourceforge/pmd/util/...</td>\n",
       "      <td>net.sourceforge.pmd.util.fxdesigner.MainDesign...</td>\n",
       "      <td>Extract Method\\tpublic onNodeItemSelected(sele...</td>\n",
       "      <td>Highlight name declarations when selecting fro...</td>\n",
       "      <td>Clément Fournier</td>\n",
       "      <td>clement.fournier76@gmail.com</td>\n",
       "    </tr>\n",
       "    <tr>\n",
       "      <th>17314</th>\n",
       "      <td>adangel$pmd</td>\n",
       "      <td>5a2202319f90080e9980735a37e4eb8e948d2f0f</td>\n",
       "      <td>Rename Parameter</td>\n",
       "      <td>pmd-ui/src/main/java/net/sourceforge/pmd/util/...</td>\n",
       "      <td>net.sourceforge.pmd.util.fxdesigner.NodeInfoPa...</td>\n",
       "      <td>Rename Parameter\\tfocusScopeView : boolean to ...</td>\n",
       "      <td>Highlight name declarations when selecting fro...</td>\n",
       "      <td>Clément Fournier</td>\n",
       "      <td>clement.fournier76@gmail.com</td>\n",
       "    </tr>\n",
       "    <tr>\n",
       "      <th>17315</th>\n",
       "      <td>adangel$pmd</td>\n",
       "      <td>d43e65761ba7a58025977e9e8ed414f05e3058ce</td>\n",
       "      <td>Rename Class</td>\n",
       "      <td>pmd-core/src/test/java/net/sourceforge/pmd/lan...</td>\n",
       "      <td>net.sourceforge.pmd.lang.ast.xpath.AttributeAx...</td>\n",
       "      <td>Rename Class\\tnet.sourceforge.pmd.lang.ast.xpa...</td>\n",
       "      <td>[core] Undo changes to AttributeAxisIterator /...</td>\n",
       "      <td>Andreas Dangel</td>\n",
       "      <td>andreas.dangel@adangel.org</td>\n",
       "    </tr>\n",
       "    <tr>\n",
       "      <th>17316</th>\n",
       "      <td>adangel$pmd</td>\n",
       "      <td>d43e65761ba7a58025977e9e8ed414f05e3058ce</td>\n",
       "      <td>Rename Method</td>\n",
       "      <td>pmd-core/src/test/java/net/sourceforge/pmd/lan...</td>\n",
       "      <td>net.sourceforge.pmd.lang.ast.xpath.AttributeAx...</td>\n",
       "      <td>Rename Method\\tpublic testAttributeAxisIterato...</td>\n",
       "      <td>[core] Undo changes to AttributeAxisIterator /...</td>\n",
       "      <td>Andreas Dangel</td>\n",
       "      <td>andreas.dangel@adangel.org</td>\n",
       "    </tr>\n",
       "  </tbody>\n",
       "</table>\n",
       "</div>"
      ],
      "text/plain": [
       "              Name                                  CommitId  \\\n",
       "17312  adangel$pmd  a5f131cc4cfe59a7da3cd220353c402d3c612d76   \n",
       "17313  adangel$pmd  5a2202319f90080e9980735a37e4eb8e948d2f0f   \n",
       "17314  adangel$pmd  5a2202319f90080e9980735a37e4eb8e948d2f0f   \n",
       "17315  adangel$pmd  d43e65761ba7a58025977e9e8ed414f05e3058ce   \n",
       "17316  adangel$pmd  d43e65761ba7a58025977e9e8ed414f05e3058ce   \n",
       "\n",
       "        RefactoringType                                           FilePath  \\\n",
       "17312     Rename Method  pmd-ui/src/main/java/net/sourceforge/pmd/util/...   \n",
       "17313    Extract Method  pmd-ui/src/main/java/net/sourceforge/pmd/util/...   \n",
       "17314  Rename Parameter  pmd-ui/src/main/java/net/sourceforge/pmd/util/...   \n",
       "17315      Rename Class  pmd-core/src/test/java/net/sourceforge/pmd/lan...   \n",
       "17316     Rename Method  pmd-core/src/test/java/net/sourceforge/pmd/lan...   \n",
       "\n",
       "                                                   Class  \\\n",
       "17312  net.sourceforge.pmd.util.fxdesigner.popups.Eve...   \n",
       "17313  net.sourceforge.pmd.util.fxdesigner.MainDesign...   \n",
       "17314  net.sourceforge.pmd.util.fxdesigner.NodeInfoPa...   \n",
       "17315  net.sourceforge.pmd.lang.ast.xpath.AttributeAx...   \n",
       "17316  net.sourceforge.pmd.lang.ast.xpath.AttributeAx...   \n",
       "\n",
       "                                       RefactoringDetail  \\\n",
       "17312  Rename Method\\tprivate bindPopupToController()...   \n",
       "17313  Extract Method\\tpublic onNodeItemSelected(sele...   \n",
       "17314  Rename Parameter\\tfocusScopeView : boolean to ...   \n",
       "17315  Rename Class\\tnet.sourceforge.pmd.lang.ast.xpa...   \n",
       "17316  Rename Method\\tpublic testAttributeAxisIterato...   \n",
       "\n",
       "                                                 Message        AuthorName  \\\n",
       "17312                                Fix caching logic\\n  Clément Fournier   \n",
       "17313  Highlight name declarations when selecting fro...  Clément Fournier   \n",
       "17314  Highlight name declarations when selecting fro...  Clément Fournier   \n",
       "17315  [core] Undo changes to AttributeAxisIterator /...    Andreas Dangel   \n",
       "17316  [core] Undo changes to AttributeAxisIterator /...    Andreas Dangel   \n",
       "\n",
       "                        AuthorEmail  \n",
       "17312  clement.fournier76@gmail.com  \n",
       "17313  clement.fournier76@gmail.com  \n",
       "17314  clement.fournier76@gmail.com  \n",
       "17315    andreas.dangel@adangel.org  \n",
       "17316    andreas.dangel@adangel.org  "
      ]
     },
     "execution_count": 11,
     "metadata": {},
     "output_type": "execute_result"
    }
   ],
   "source": [
    "# filter for just the adangel$pmd rows\n",
    "df_adangle = df_raw[df_raw['Name'] == \"adangel$pmd\"]\n",
    "# df_adangle.shape  # (8495, 9) same row count as reported in phase 1 report, check\n",
    "df_adangle.tail()"
   ]
  },
  {
   "cell_type": "code",
   "execution_count": 12,
   "id": "f5806ce8",
   "metadata": {},
   "outputs": [
    {
     "data": {
      "text/plain": [
       "'Rename Method\\tpublic testAttributeAxisIteratorOnBean() : void renamed to public testAttributeAxisIteratorWithEnum() : void in class net.sourceforge.pmd.lang.ast.xpath.AttributeAxisIteratorTest'"
      ]
     },
     "execution_count": 12,
     "metadata": {},
     "output_type": "execute_result"
    }
   ],
   "source": [
    "df_adangle['RefactoringDetail'].iloc[8494]"
   ]
  },
  {
   "cell_type": "code",
   "execution_count": 13,
   "id": "0999aa4a",
   "metadata": {},
   "outputs": [
    {
     "data": {
      "text/plain": [
       "'pmd-core/src/test/java/net/sourceforge/pmd/lang/ast/xpath/AttributeAxisIteratorTest.java'"
      ]
     },
     "execution_count": 13,
     "metadata": {},
     "output_type": "execute_result"
    }
   ],
   "source": [
    "df_adangle['FilePath'].iloc[8494]"
   ]
  },
  {
   "cell_type": "code",
   "execution_count": 14,
   "id": "1830b3cf",
   "metadata": {},
   "outputs": [
    {
     "data": {
      "text/plain": [
       "'net.sourceforge.pmd.lang.ast.xpath.AttributeAxisIteratorTest'"
      ]
     },
     "execution_count": 14,
     "metadata": {},
     "output_type": "execute_result"
    }
   ],
   "source": [
    "df_adangle['Class'].iloc[8494]"
   ]
  },
  {
   "cell_type": "code",
   "execution_count": null,
   "id": "4a0c3b93",
   "metadata": {},
   "outputs": [],
   "source": []
  },
  {
   "cell_type": "code",
   "execution_count": null,
   "id": "1b1854b7",
   "metadata": {},
   "outputs": [],
   "source": []
  },
  {
   "cell_type": "code",
   "execution_count": 15,
   "id": "43d91ef8",
   "metadata": {},
   "outputs": [],
   "source": [
    "# how many records do we lose if we drop rows with empty commit messages"
   ]
  },
  {
   "cell_type": "markdown",
   "id": "959ce362",
   "metadata": {},
   "source": [
    "# Feature Creation\n",
    "\n",
    "## Potential Features\n",
    "\n",
    "### Assumptions\n",
    "\n",
    "`RefactoringDetail` appends `RefactoringType` with information that is in `FilePath` and/or `Class`.\n",
    "\n",
    "Uniformative columns:\n",
    "\n",
    "+ CommitId\n",
    "+ Email\n",
    "\n",
    "### Exploratory Questions\n",
    "\n",
    "How many unique types of each variable? How are these variables distributed?\n",
    "\n",
    "### 1 response, 3 inputs as follows\n",
    "\n",
    "+ Authors - Response, 77 committers, may want to group by commit frequency as there are many of them\n",
    "+ RefactoringTypes - 27 types\n",
    "+ FilePath - How do we build a logical feature from this?\n",
    "  - vector representation: cosine similarity should be higher among paths that share more path elements\n",
    "  - e.g. if path 1 = a/b/c/d, path 2 = a/b/c/e, path 3 a/b/m/n then path 1 would have a higher cosine similarity to path 2 than to path 3.\n",
    "+ Class - 3043 for these, so like `FilePath`, this one will need some engineering as well\n",
    "  "
   ]
  },
  {
   "cell_type": "code",
   "execution_count": 16,
   "id": "261300b6",
   "metadata": {},
   "outputs": [
    {
     "data": {
      "text/plain": [
       "Move Class                         1369\n",
       "Rename Method                       967\n",
       "Extract Method                      703\n",
       "Rename Variable                     698\n",
       "Rename Attribute                    688\n",
       "Pull Up Method                      546\n",
       "Move Method                         499\n",
       "Rename Class                        467\n",
       "Rename Parameter                    413\n",
       "Move Attribute                      382\n",
       "Extract Variable                    279\n",
       "Push Down Method                    225\n",
       "Extract And Move Method             195\n",
       "Pull Up Attribute                   150\n",
       "Extract Superclass                  122\n",
       "Move And Rename Class               122\n",
       "Inline Variable                     118\n",
       "Inline Method                       103\n",
       "Extract Class                        96\n",
       "Change Package                       70\n",
       "Parameterize Variable                65\n",
       "Move Source Folder                   56\n",
       "Push Down Attribute                  55\n",
       "Replace Variable With Attribute      42\n",
       "Extract Interface                    39\n",
       "Extract Subclass                     25\n",
       "Move And Rename Attribute             1\n",
       "Name: RefactoringType, dtype: int64"
      ]
     },
     "execution_count": 16,
     "metadata": {},
     "output_type": "execute_result"
    }
   ],
   "source": [
    "# how are refactoring types distributed\n",
    "refactor_types = df_adangle['RefactoringType'].value_counts()\n",
    "# refactor_types.shape  # 27 types\n",
    "refactor_types"
   ]
  },
  {
   "cell_type": "code",
   "execution_count": 17,
   "id": "e688ec0d",
   "metadata": {
    "scrolled": true
   },
   "outputs": [
    {
     "data": {
      "text/plain": [
       "pmd-eclipse-plugin/plugins/net.sourceforge.pmd.eclipse.plugin/src/net/sourceforge/pmd/eclipse/ui/nls/StringKeys.java                     193\n",
       "pmd-apex/src/main/java/net/sourceforge/pmd/lang/apex/ast/AbstractApexNode.java                                                            97\n",
       "pmd/src/net/sourceforge/pmd/PMD.java                                                                                                      77\n",
       "pmd/src/net/sourceforge/pmd/ast/JavaParser.java                                                                                           75\n",
       "pmd/src/main/java/net/sourceforge/pmd/lang/plsql/ast/PLSQLParser.java                                                                     75\n",
       "pmd-java/src/main/java/net/sourceforge/pmd/lang/java/typeresolution/ClassTypeResolver.java                                                61\n",
       "pmd/src/net/sourceforge/pmd/swingui/PMDViewer.java                                                                                        58\n",
       "pmd-java/src/main/java/net/sourceforge/pmd/lang/java/ast/JavaQualifiedName.java                                                           57\n",
       "pmd-eclipse/src/net/sourceforge/pmd/eclipse/PMDPlugin.java                                                                                51\n",
       "pmd-eclipse-plugin/plugins/net.sourceforge.pmd.eclipse.plugin/src/net/sourceforge/pmd/eclipse/ui/preferences/br/RuleTableManager.java     48\n",
       "Name: FilePath, dtype: int64"
      ]
     },
     "execution_count": 17,
     "metadata": {},
     "output_type": "execute_result"
    }
   ],
   "source": [
    "# how are file paths distributed\n",
    "file_types = df_adangle['FilePath'].value_counts()\n",
    "# file_types.shape  # 3139 types\n",
    "file_types.head(10)"
   ]
  },
  {
   "cell_type": "code",
   "execution_count": 18,
   "id": "2b7f77f4",
   "metadata": {
    "scrolled": true
   },
   "outputs": [
    {
     "data": {
      "text/plain": [
       "Tom Copeland                 1624\n",
       "Ryan Gustafson               1157\n",
       "Brian Remedios               1094\n",
       "Andreas Dangel                886\n",
       "Clément Fournier              700\n",
       "oowekyala                     549\n",
       "Xavier Le Vourch              323\n",
       "Philippe Herlin               308\n",
       "Don Leckie                    234\n",
       "Freddy Mallet                 196\n",
       "Juan Martín Sotuyo Dodero     177\n",
       "Stuart Turton                 148\n",
       "Allan Caplan                  145\n",
       "Bendegúz Nagy                 143\n",
       "Sergey                        104\n",
       "Torsten Kleiber                94\n",
       "Romain Pelisse                 80\n",
       "Sven Jacob                     57\n",
       "David Craine                   41\n",
       "Dale Anson                     33\n",
       "Victor Bucutea                 31\n",
       "Sergey Gorbaty                 26\n",
       "Ole-Martin Mork                26\n",
       "gonzalo                        21\n",
       "BBG                            20\n",
       "Gunnlaugur Thor Briem          19\n",
       "Romain PELISSE                 18\n",
       "Robert Sösemann               16\n",
       "Radim Kubacki                  15\n",
       "David Renz                     14\n",
       "akshatbahety                   14\n",
       "Brice Dutheil                  14\n",
       "Akshat Bahety                  13\n",
       "Jeff Hube                      13\n",
       "Jiger Patel                    12\n",
       "Wouter Zelle                   11\n",
       "Miguel Griffa                  10\n",
       "Jan van Nunen                  10\n",
       "Oowekyala                       9\n",
       "David Dixon-Peugh               9\n",
       "Robert Sösemann                 8\n",
       "epidemia                        7\n",
       "Alex Chaffee                    6\n",
       "lsoncini                        4\n",
       "Christofer Dutz                 4\n",
       "Andrey Utis                     4\n",
       "Andrey Lumyanski                4\n",
       "José Manuel Rolón               3\n",
       "Matias Fraga                    3\n",
       "Kristian Scheibe                3\n",
       "kshantaraman                    3\n",
       "Robert M und David R            2\n",
       "Tomi De Lucca                   2\n",
       "ryan-gustafson                  2\n",
       "Jan Aertgeerts                  2\n",
       "Philip Graf                     2\n",
       "Matthew Short                   2\n",
       "Robin Stocker                   1\n",
       "Robert Whitebit                 1\n",
       "ledoyen                         1\n",
       "rajeshggwp                      1\n",
       "George Kankava                  1\n",
       "Bernardo Macedo                 1\n",
       "Paul Kendall                    1\n",
       "Björn Kautler                   1\n",
       "Brant Gurganus                  1\n",
       "Colin Wilson-Salt               1\n",
       "Tomasz Slota                    1\n",
       "Alan Ezust                      1\n",
       "mrb                             1\n",
       "Frits Jalvingh                  1\n",
       "Dionisio                        1\n",
       "Dennis Kieselhorst              1\n",
       "amitbitcse                      1\n",
       "hooperbloob                     1\n",
       "Peter Kofler                    1\n",
       "Filipe Esperandio               1\n",
       "Name: AuthorName, dtype: int64"
      ]
     },
     "execution_count": 18,
     "metadata": {},
     "output_type": "execute_result"
    }
   ],
   "source": [
    "pd.options.display.max_rows = None\n",
    "# how are authors distributed\n",
    "authors = df_adangle['AuthorName'].value_counts()\n",
    "# authors.shape  # 77 authors, may want to bucket e.g. group1, >=1000 commits, group2, >200 but <1000\n",
    "authors # order of magnitude drop over the first 10"
   ]
  },
  {
   "cell_type": "code",
   "execution_count": 21,
   "id": "e78db275",
   "metadata": {},
   "outputs": [
    {
     "data": {
      "text/plain": [
       "Text(0, 0.5, 'Developer Count')"
      ]
     },
     "execution_count": 21,
     "metadata": {},
     "output_type": "execute_result"
    },
    {
     "data": {
      "image/png": "[encoded data removed]",
      "text/plain": [
       "<Figure size 720x504 with 1 Axes>"
      ]
     },
     "metadata": {
      "needs_background": "light"
     },
     "output_type": "display_data"
    }
   ],
   "source": [
    "# histogram of committers\n",
    "fig, ax = plt.subplots(figsize = (10, 7))\n",
    "ax.hist(authors)\n",
    "ax.set_xlabel('Commit Count')\n",
    "ax.set_ylabel('Developer Count')"
   ]
  },
  {
   "cell_type": "code",
   "execution_count": 31,
   "id": "622d2f27",
   "metadata": {},
   "outputs": [
    {
     "data": {
      "text/plain": [
       "6"
      ]
     },
     "execution_count": 31,
     "metadata": {},
     "output_type": "execute_result"
    }
   ],
   "source": [
    "high_frequency_committers = authors[authors > 400]\n",
    "high_frequency_committers.shape[0]"
   ]
  },
  {
   "cell_type": "code",
   "execution_count": 43,
   "id": "4aadd187",
   "metadata": {},
   "outputs": [
    {
     "data": {
      "text/plain": [
       "9"
      ]
     },
     "execution_count": 43,
     "metadata": {},
     "output_type": "execute_result"
    }
   ],
   "source": [
    "med_high_frequency_committers = authors[(authors > 100) & (authors <= 400)]\n",
    "med_high_frequency_committers.shape[0]"
   ]
  },
  {
   "cell_type": "code",
   "execution_count": 45,
   "id": "81329ff0",
   "metadata": {},
   "outputs": [
    {
     "data": {
      "text/plain": [
       "8"
      ]
     },
     "execution_count": 45,
     "metadata": {},
     "output_type": "execute_result"
    }
   ],
   "source": [
    "med_frequency_committers = authors[(authors > 25) & (authors <= 100)]\n",
    "med_frequency_committers.shape[0]"
   ]
  },
  {
   "cell_type": "code",
   "execution_count": 46,
   "id": "f24c3360",
   "metadata": {},
   "outputs": [
    {
     "data": {
      "text/plain": [
       "54"
      ]
     },
     "execution_count": 46,
     "metadata": {},
     "output_type": "execute_result"
    }
   ],
   "source": [
    "low_frequency_committers = authors[authors <= 25]\n",
    "low_frequency_committers.shape[0]"
   ]
  },
  {
   "cell_type": "code",
   "execution_count": 24,
   "id": "42f3fb42",
   "metadata": {},
   "outputs": [
    {
     "data": {
      "text/plain": [
       "(array([58.,  2.,  2.,  1.,  3.,  1.,  1.,  1.,  0.,  2.]),\n",
       " array([  1. ,  33.2,  65.4,  97.6, 129.8, 162. , 194.2, 226.4, 258.6,\n",
       "        290.8, 323. ]),\n",
       " <BarContainer object of 10 artists>)"
      ]
     },
     "execution_count": 24,
     "metadata": {},
     "output_type": "execute_result"
    },
    {
     "data": {
      "image/png": "[encoded data removed]",
      "text/plain": [
       "<Figure size 720x504 with 1 Axes>"
      ]
     },
     "metadata": {
      "needs_background": "light"
     },
     "output_type": "display_data"
    }
   ],
   "source": [
    "less_frequent_committers = authors[authors < 400]  # less_frequent_committers.shape = 71\n",
    "fig2, ax2 = plt.subplots(figsize = (10, 7))\n",
    "ax2.hist(less_frequent_committers)  # turtles all the way down  ;-)"
   ]
  },
  {
   "cell_type": "code",
   "execution_count": 27,
   "id": "40cfd5c0",
   "metadata": {},
   "outputs": [
    {
     "data": {
      "text/plain": [
       "(array([34.,  3.,  6.,  7.,  3.,  1.,  2.,  1.,  1.,  1.]),\n",
       " array([ 1.,  5.,  9., 13., 17., 21., 25., 29., 33., 37., 41.]),\n",
       " <BarContainer object of 10 artists>)"
      ]
     },
     "execution_count": 27,
     "metadata": {},
     "output_type": "execute_result"
    },
    {
     "data": {
      "image/png": "[encoded data removed]",
      "text/plain": [
       "<Figure size 720x504 with 1 Axes>"
      ]
     },
     "metadata": {
      "needs_background": "light"
     },
     "output_type": "display_data"
    }
   ],
   "source": [
    "least_frequent_committers = authors[authors < 50]  # least_frequent_committers.shape = 59\n",
    "fig3, ax3 = plt.subplots(figsize = (10, 7))\n",
    "ax3.hist(least_frequent_committers)"
   ]
  },
  {
   "cell_type": "code",
   "execution_count": 48,
   "id": "68ce5b2d",
   "metadata": {},
   "outputs": [
    {
     "data": {
      "text/plain": [
       "(6, 9, 8, 54)"
      ]
     },
     "execution_count": 48,
     "metadata": {},
     "output_type": "execute_result"
    }
   ],
   "source": [
    "# committer buckets\n",
    "high_frequency_committers.shape[0], med_high_frequency_committers.shape[0], med_frequency_committers.shape[0], low_frequency_committers.shape[0]"
   ]
  },
  {
   "cell_type": "markdown",
   "id": "c4845773",
   "metadata": {},
   "source": [
    "## The right research question\n",
    "\n",
    "Assumption - The high and medium high frequency committers can probably refactor request well.  The goal should be best utilize the medium and low frequency committers to off-load the higher frequency committers."
   ]
  },
  {
   "cell_type": "code",
   "execution_count": null,
   "id": "b0fff058",
   "metadata": {},
   "outputs": [],
   "source": []
  },
  {
   "cell_type": "code",
   "execution_count": null,
   "id": "0c6c27de",
   "metadata": {},
   "outputs": [],
   "source": []
  },
  {
   "cell_type": "code",
   "execution_count": 19,
   "id": "6ec94908",
   "metadata": {},
   "outputs": [
    {
     "data": {
      "text/plain": [
       "net.sourceforge.pmd.eclipse.ui.nls.StringKeys                     193\n",
       "net.sourceforge.pmd.lang.apex.ast.AbstractApexNode                 97\n",
       "net.sourceforge.pmd.PMD                                            86\n",
       "net.sourceforge.pmd.lang.plsql.ast.PLSQLParser                     75\n",
       "net.sourceforge.pmd.ast.JavaParser                                 75\n",
       "net.sourceforge.pmd.lang.java.typeresolution.ClassTypeResolver     65\n",
       "net.sourceforge.pmd.RuleSetFactory                                 59\n",
       "net.sourceforge.pmd.lang.java.ast.JavaQualifiedName                57\n",
       "net.sourceforge.pmd.swingui.PMDViewer                              52\n",
       "net.sourceforge.pmd.eclipse.PMDPlugin                              51\n",
       "Name: Class, dtype: int64"
      ]
     },
     "execution_count": 19,
     "metadata": {},
     "output_type": "execute_result"
    }
   ],
   "source": [
    "# how are classes distributed\n",
    "classes = df_adangle['Class'].value_counts()\n",
    "# classes.shape  # 3043\n",
    "# type(classes)  # pandas.core.series.Series\n",
    "classes.head(10)"
   ]
  },
  {
   "cell_type": "markdown",
   "id": "9ea33d7a",
   "metadata": {},
   "source": [
    "### Other data particulars\n",
    "\n",
    "+ There are multiple rows with the same CommitId so this field can not be used to identify unique rows in the data.\n",
    "+ Are there repeated rows?\n",
    "  - No, see below.\n",
    "+ what is the size of the vocabulary used in the `Message` column"
   ]
  },
  {
   "cell_type": "code",
   "execution_count": null,
   "id": "cfd8b74c",
   "metadata": {},
   "outputs": [],
   "source": [
    "## replace_with_space takes a string x and a list of characters removal_list \n",
    "## returns x with all the characters in removal_list replaced by ' '\n",
    "def replace_with_space(x, removal_list):\n",
    "    for w in removal_list:\n",
    "        x = x.replace(w, ' ')\n",
    "    return x"
   ]
  },
  {
   "cell_type": "code",
   "execution_count": null,
   "id": "bc916ed0",
   "metadata": {},
   "outputs": [],
   "source": [
    "import string  # to get access to punctuation chars\n",
    "\n",
    "# df_filtered.shape  # (8495, 9)\n",
    "# df_filtered.drop_duplicates(inplace=False)\n",
    "# df_filtered.shape  # (8495, 9) no change\n",
    "messages_raw = df_filtered['Message']\n",
    "# messages_raw.shape\n",
    "\n",
    "## Remove digits\n",
    "digits = [str(x) for x in range(10)]\n",
    "digit_less = [replace_with_space(x, digits) for x in messages_raw]\n",
    "## Remove punctuation\n",
    "punc_less = [replace_with_space(x, list(string.punctuation)) for x in digit_less]\n",
    "punc_less[0:5]  # lots empty/junky messages"
   ]
  },
  {
   "cell_type": "code",
   "execution_count": null,
   "id": "6a54eced",
   "metadata": {
    "scrolled": true
   },
   "outputs": [],
   "source": [
    "## clear messages that start with \"    empty log message\"\n",
    "empty_log = 'empty log message'\n",
    "clear_empty = ['' if x.__contains__(empty_log) else x for x in punc_less]\n",
    "clear_empty[100:150]"
   ]
  },
  {
   "cell_type": "code",
   "execution_count": null,
   "id": "ab43d61d",
   "metadata": {},
   "outputs": [],
   "source": []
  },
  {
   "cell_type": "code",
   "execution_count": null,
   "id": "09681618",
   "metadata": {},
   "outputs": [],
   "source": []
  },
  {
   "cell_type": "code",
   "execution_count": null,
   "id": "1c25ed93",
   "metadata": {},
   "outputs": [],
   "source": []
  },
  {
   "cell_type": "code",
   "execution_count": null,
   "id": "fa3fe26b",
   "metadata": {},
   "outputs": [],
   "source": []
  },
  {
   "cell_type": "code",
   "execution_count": null,
   "id": "fe0253f4",
   "metadata": {},
   "outputs": [],
   "source": []
  },
  {
   "cell_type": "code",
   "execution_count": null,
   "id": "902b6b3b",
   "metadata": {},
   "outputs": [],
   "source": []
  },
  {
   "cell_type": "code",
   "execution_count": null,
   "id": "7677a2fb",
   "metadata": {},
   "outputs": [],
   "source": []
  }
 ],
 "metadata": {
  "kernelspec": {
   "display_name": "Python 3 (ipykernel)",
   "language": "python",
   "name": "python3"
  },
  "language_info": {
   "codemirror_mode": {
    "name": "ipython",
    "version": 3
   },
   "file_extension": ".py",
   "mimetype": "text/x-python",
   "name": "python",
   "nbconvert_exporter": "python",
   "pygments_lexer": "ipython3",
   "version": "3.10.1"
  }
 },
 "nbformat": 4,
 "nbformat_minor": 5
}
