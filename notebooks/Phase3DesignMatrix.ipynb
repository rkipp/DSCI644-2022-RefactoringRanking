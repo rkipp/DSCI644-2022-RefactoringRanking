{
 "cells": [
  {
   "cell_type": "code",
   "execution_count": null,
   "id": "e5b7a918",
   "metadata": {},
   "outputs": [],
   "source": []
  },
  {
   "cell_type": "code",
   "execution_count": null,
   "id": "b1ad739c",
   "metadata": {},
   "outputs": [],
   "source": []
  },
  {
   "cell_type": "code",
   "execution_count": 1,
   "id": "7cfff66a",
   "metadata": {},
   "outputs": [
    {
     "data": {
      "text/html": [
       "<div>\n",
       "<style scoped>\n",
       "    .dataframe tbody tr th:only-of-type {\n",
       "        vertical-align: middle;\n",
       "    }\n",
       "\n",
       "    .dataframe tbody tr th {\n",
       "        vertical-align: top;\n",
       "    }\n",
       "\n",
       "    .dataframe thead th {\n",
       "        text-align: right;\n",
       "    }\n",
       "</style>\n",
       "<table border=\"1\" class=\"dataframe\">\n",
       "  <thead>\n",
       "    <tr style=\"text-align: right;\">\n",
       "      <th></th>\n",
       "      <th>Name</th>\n",
       "      <th>CommitId</th>\n",
       "      <th>RefactoringType</th>\n",
       "      <th>FilePath</th>\n",
       "      <th>Class</th>\n",
       "      <th>RefactoringDetail</th>\n",
       "      <th>Message</th>\n",
       "      <th>AuthorName</th>\n",
       "      <th>AuthorEmail</th>\n",
       "    </tr>\n",
       "  </thead>\n",
       "  <tbody>\n",
       "    <tr>\n",
       "      <th>0</th>\n",
       "      <td>hibernate$hibernate-validator</td>\n",
       "      <td>a3af1683e63c9c800f486552e7e5002c24b6712b</td>\n",
       "      <td>Move Source Folder</td>\n",
       "      <td>src</td>\n",
       "      <td>NaN</td>\n",
       "      <td>Move Source Folder\\tsrc to hibernate-validator...</td>\n",
       "      <td>Moved the legacy validator code into hibernate...</td>\n",
       "      <td>Hardy Ferentschik</td>\n",
       "      <td>hibernate@ferentschik.de</td>\n",
       "    </tr>\n",
       "    <tr>\n",
       "      <th>1</th>\n",
       "      <td>hibernate$hibernate-validator</td>\n",
       "      <td>6d6c3deaf0b499e06077383d8d3add43f30ba099</td>\n",
       "      <td>Move Source Folder</td>\n",
       "      <td>hibernate-validator-legacy/src</td>\n",
       "      <td>NaN</td>\n",
       "      <td>Move Source Folder\\thibernate-validator-legacy...</td>\n",
       "      <td>Refactored build so that compile and test can ...</td>\n",
       "      <td>Hardy Ferentschik</td>\n",
       "      <td>hibernate@ferentschik.de</td>\n",
       "    </tr>\n",
       "    <tr>\n",
       "      <th>2</th>\n",
       "      <td>hibernate$hibernate-validator</td>\n",
       "      <td>6d6c3deaf0b499e06077383d8d3add43f30ba099</td>\n",
       "      <td>Move Source Folder</td>\n",
       "      <td>hibernate-validator-legacy/src/test</td>\n",
       "      <td>NaN</td>\n",
       "      <td>Move Source Folder\\thibernate-validator-legacy...</td>\n",
       "      <td>Refactored build so that compile and test can ...</td>\n",
       "      <td>Hardy Ferentschik</td>\n",
       "      <td>hibernate@ferentschik.de</td>\n",
       "    </tr>\n",
       "    <tr>\n",
       "      <th>3</th>\n",
       "      <td>hibernate$hibernate-validator</td>\n",
       "      <td>25350de39ef9484997999f6e6d8f00abc5d51546</td>\n",
       "      <td>Extract Variable</td>\n",
       "      <td>hibernate-validator/src/main/java/org/hibernat...</td>\n",
       "      <td>org.hibernate.validation.engine.ValidatorImpl</td>\n",
       "      <td>Extract Variable\\tleafBeanInstance : Object in...</td>\n",
       "      <td>BVAL-37 ConstraintDescriptor.getLeafValue()\\n\\...</td>\n",
       "      <td>Emmanuel Bernard</td>\n",
       "      <td>emmanuel@hibernate.org</td>\n",
       "    </tr>\n",
       "    <tr>\n",
       "      <th>4</th>\n",
       "      <td>hibernate$hibernate-validator</td>\n",
       "      <td>25350de39ef9484997999f6e6d8f00abc5d51546</td>\n",
       "      <td>Rename Method</td>\n",
       "      <td>hibernate-validator/src/main/java/org/hibernat...</td>\n",
       "      <td>org.hibernate.validation.engine.ValidatorImpl</td>\n",
       "      <td>Rename Method\\tpublic getBeanConstraints() : E...</td>\n",
       "      <td>BVAL-37 ConstraintDescriptor.getLeafValue()\\n\\...</td>\n",
       "      <td>Emmanuel Bernard</td>\n",
       "      <td>emmanuel@hibernate.org</td>\n",
       "    </tr>\n",
       "  </tbody>\n",
       "</table>\n",
       "</div>"
      ],
      "text/plain": [
       "                            Name                                  CommitId  \\\n",
       "0  hibernate$hibernate-validator  a3af1683e63c9c800f486552e7e5002c24b6712b   \n",
       "1  hibernate$hibernate-validator  6d6c3deaf0b499e06077383d8d3add43f30ba099   \n",
       "2  hibernate$hibernate-validator  6d6c3deaf0b499e06077383d8d3add43f30ba099   \n",
       "3  hibernate$hibernate-validator  25350de39ef9484997999f6e6d8f00abc5d51546   \n",
       "4  hibernate$hibernate-validator  25350de39ef9484997999f6e6d8f00abc5d51546   \n",
       "\n",
       "      RefactoringType                                           FilePath  \\\n",
       "0  Move Source Folder                                                src   \n",
       "1  Move Source Folder                     hibernate-validator-legacy/src   \n",
       "2  Move Source Folder                hibernate-validator-legacy/src/test   \n",
       "3    Extract Variable  hibernate-validator/src/main/java/org/hibernat...   \n",
       "4       Rename Method  hibernate-validator/src/main/java/org/hibernat...   \n",
       "\n",
       "                                           Class  \\\n",
       "0                                            NaN   \n",
       "1                                            NaN   \n",
       "2                                            NaN   \n",
       "3  org.hibernate.validation.engine.ValidatorImpl   \n",
       "4  org.hibernate.validation.engine.ValidatorImpl   \n",
       "\n",
       "                                   RefactoringDetail  \\\n",
       "0  Move Source Folder\\tsrc to hibernate-validator...   \n",
       "1  Move Source Folder\\thibernate-validator-legacy...   \n",
       "2  Move Source Folder\\thibernate-validator-legacy...   \n",
       "3  Extract Variable\\tleafBeanInstance : Object in...   \n",
       "4  Rename Method\\tpublic getBeanConstraints() : E...   \n",
       "\n",
       "                                             Message         AuthorName  \\\n",
       "0  Moved the legacy validator code into hibernate...  Hardy Ferentschik   \n",
       "1  Refactored build so that compile and test can ...  Hardy Ferentschik   \n",
       "2  Refactored build so that compile and test can ...  Hardy Ferentschik   \n",
       "3  BVAL-37 ConstraintDescriptor.getLeafValue()\\n\\...   Emmanuel Bernard   \n",
       "4  BVAL-37 ConstraintDescriptor.getLeafValue()\\n\\...   Emmanuel Bernard   \n",
       "\n",
       "                AuthorEmail  \n",
       "0  hibernate@ferentschik.de  \n",
       "1  hibernate@ferentschik.de  \n",
       "2  hibernate@ferentschik.de  \n",
       "3    emmanuel@hibernate.org  \n",
       "4    emmanuel@hibernate.org  "
      ]
     },
     "execution_count": 1,
     "metadata": {},
     "output_type": "execute_result"
    }
   ],
   "source": [
    "import numpy as np\n",
    "import pandas as pd\n",
    "import matplotlib.pyplot as plt\n",
    "\n",
    "# change this to point to wherever you've put the data\n",
    "data_dir = \"F:\\\\GoogleDrive\\\\ds_ml\\\\RIT\\\\2022-01 DSCI.644\\\\project\\\\phase2\\\\\"\n",
    "data_path = data_dir + \"project3-authors.csv\"\n",
    "df_raw = pd.read_csv(data_path)\n",
    "# df_raw.shape   # (17317, 9)\n",
    "# df_raw.columns # ['Name', 'CommitId', 'RefactoringType', 'FilePath', 'Class',\n",
    "#                   'RefactoringDetail', 'Message', 'AuthorName', 'AuthorEmail']\n",
    "# df_raw['Name'].unique()  # ['hibernate$hibernate-validator', 'eclipse$bpmn2-modeler',\n",
    "#                             'adangel$pmd']\n",
    "df_raw.head()"
   ]
  },
  {
   "cell_type": "code",
   "execution_count": 2,
   "id": "7ed2bfd7",
   "metadata": {},
   "outputs": [
    {
     "data": {
      "text/plain": [
       "Index(['Name', 'CommitId', 'RefactoringType', 'FilePath', 'Class',\n",
       "       'RefactoringDetail', 'Message', 'AuthorName', 'AuthorEmail'],\n",
       "      dtype='object')"
      ]
     },
     "execution_count": 2,
     "metadata": {},
     "output_type": "execute_result"
    }
   ],
   "source": [
    "df_raw.columns"
   ]
  },
  {
   "cell_type": "code",
   "execution_count": 3,
   "id": "ca0a875e",
   "metadata": {
    "scrolled": true
   },
   "outputs": [
    {
     "data": {
      "text/html": [
       "<div>\n",
       "<style scoped>\n",
       "    .dataframe tbody tr th:only-of-type {\n",
       "        vertical-align: middle;\n",
       "    }\n",
       "\n",
       "    .dataframe tbody tr th {\n",
       "        vertical-align: top;\n",
       "    }\n",
       "\n",
       "    .dataframe thead th {\n",
       "        text-align: right;\n",
       "    }\n",
       "</style>\n",
       "<table border=\"1\" class=\"dataframe\">\n",
       "  <thead>\n",
       "    <tr style=\"text-align: right;\">\n",
       "      <th></th>\n",
       "      <th>Name</th>\n",
       "      <th>CommitId</th>\n",
       "      <th>RefactoringType</th>\n",
       "      <th>FilePath</th>\n",
       "      <th>Class</th>\n",
       "      <th>RefactoringDetail</th>\n",
       "      <th>Message</th>\n",
       "      <th>AuthorName</th>\n",
       "      <th>AuthorEmail</th>\n",
       "    </tr>\n",
       "  </thead>\n",
       "  <tbody>\n",
       "    <tr>\n",
       "      <th>5394</th>\n",
       "      <td>hibernate$hibernate-validator</td>\n",
       "      <td>9e0626b8318ba4bdf55580aacae3947410278129</td>\n",
       "      <td>Extract Variable</td>\n",
       "      <td>engine/src/main/java/org/hibernate/validator/i...</td>\n",
       "      <td>org.hibernate.validator.internal.engine.Valida...</td>\n",
       "      <td>Extract Variable\\tbeanMetaData : BeanMetaData&lt;...</td>\n",
       "      <td>HV-1681 Separate out bean metadata aware Value...</td>\n",
       "      <td>marko-bekhta</td>\n",
       "      <td>marko.prykladna@gmail.com</td>\n",
       "    </tr>\n",
       "    <tr>\n",
       "      <th>5395</th>\n",
       "      <td>hibernate$hibernate-validator</td>\n",
       "      <td>9e0626b8318ba4bdf55580aacae3947410278129</td>\n",
       "      <td>Move Class</td>\n",
       "      <td>engine/src/main/java/org/hibernate/validator/i...</td>\n",
       "      <td>org.hibernate.validator.internal.engine.ValueC...</td>\n",
       "      <td>Move Class\\torg.hibernate.validator.internal.e...</td>\n",
       "      <td>HV-1681 Separate out bean metadata aware Value...</td>\n",
       "      <td>marko-bekhta</td>\n",
       "      <td>marko.prykladna@gmail.com</td>\n",
       "    </tr>\n",
       "    <tr>\n",
       "      <th>5396</th>\n",
       "      <td>hibernate$hibernate-validator</td>\n",
       "      <td>59372ef6b92138b0c6a347ea16cd655576715252</td>\n",
       "      <td>Rename Variable</td>\n",
       "      <td>engine/src/main/java/org/hibernate/validator/i...</td>\n",
       "      <td>org.hibernate.validator.internal.engine.valuee...</td>\n",
       "      <td>Rename Variable\\textractorDescriptorsToCache :...</td>\n",
       "      <td>HV-1684 Fix value extraction logic to avoid st...</td>\n",
       "      <td>Guillaume Smet</td>\n",
       "      <td>guillaume.smet@gmail.com</td>\n",
       "    </tr>\n",
       "    <tr>\n",
       "      <th>5397</th>\n",
       "      <td>hibernate$hibernate-validator</td>\n",
       "      <td>59372ef6b92138b0c6a347ea16cd655576715252</td>\n",
       "      <td>Rename Variable</td>\n",
       "      <td>engine/src/main/java/org/hibernate/validator/i...</td>\n",
       "      <td>org.hibernate.validator.internal.engine.valuee...</td>\n",
       "      <td>Rename Variable\\textractorDescriptorsToCache :...</td>\n",
       "      <td>HV-1684 Fix value extraction logic to avoid st...</td>\n",
       "      <td>Guillaume Smet</td>\n",
       "      <td>guillaume.smet@gmail.com</td>\n",
       "    </tr>\n",
       "    <tr>\n",
       "      <th>5398</th>\n",
       "      <td>hibernate$hibernate-validator</td>\n",
       "      <td>571ab96b9ea2b32c2597f0765f59da28f5c029d9</td>\n",
       "      <td>Rename Method</td>\n",
       "      <td>engine/src/main/java/org/hibernate/validator/i...</td>\n",
       "      <td>org.hibernate.validator.internal.engine.path.P...</td>\n",
       "      <td>Rename Method\\tpublic getPathWithoutLeafNode()...</td>\n",
       "      <td>HV-1691 Rename PathImpl#getPathWithoutLeafNode...</td>\n",
       "      <td>Guillaume Smet</td>\n",
       "      <td>guillaume.smet@gmail.com</td>\n",
       "    </tr>\n",
       "  </tbody>\n",
       "</table>\n",
       "</div>"
      ],
      "text/plain": [
       "                               Name                                  CommitId  \\\n",
       "5394  hibernate$hibernate-validator  9e0626b8318ba4bdf55580aacae3947410278129   \n",
       "5395  hibernate$hibernate-validator  9e0626b8318ba4bdf55580aacae3947410278129   \n",
       "5396  hibernate$hibernate-validator  59372ef6b92138b0c6a347ea16cd655576715252   \n",
       "5397  hibernate$hibernate-validator  59372ef6b92138b0c6a347ea16cd655576715252   \n",
       "5398  hibernate$hibernate-validator  571ab96b9ea2b32c2597f0765f59da28f5c029d9   \n",
       "\n",
       "       RefactoringType                                           FilePath  \\\n",
       "5394  Extract Variable  engine/src/main/java/org/hibernate/validator/i...   \n",
       "5395        Move Class  engine/src/main/java/org/hibernate/validator/i...   \n",
       "5396   Rename Variable  engine/src/main/java/org/hibernate/validator/i...   \n",
       "5397   Rename Variable  engine/src/main/java/org/hibernate/validator/i...   \n",
       "5398     Rename Method  engine/src/main/java/org/hibernate/validator/i...   \n",
       "\n",
       "                                                  Class  \\\n",
       "5394  org.hibernate.validator.internal.engine.Valida...   \n",
       "5395  org.hibernate.validator.internal.engine.ValueC...   \n",
       "5396  org.hibernate.validator.internal.engine.valuee...   \n",
       "5397  org.hibernate.validator.internal.engine.valuee...   \n",
       "5398  org.hibernate.validator.internal.engine.path.P...   \n",
       "\n",
       "                                      RefactoringDetail  \\\n",
       "5394  Extract Variable\\tbeanMetaData : BeanMetaData<...   \n",
       "5395  Move Class\\torg.hibernate.validator.internal.e...   \n",
       "5396  Rename Variable\\textractorDescriptorsToCache :...   \n",
       "5397  Rename Variable\\textractorDescriptorsToCache :...   \n",
       "5398  Rename Method\\tpublic getPathWithoutLeafNode()...   \n",
       "\n",
       "                                                Message      AuthorName  \\\n",
       "5394  HV-1681 Separate out bean metadata aware Value...    marko-bekhta   \n",
       "5395  HV-1681 Separate out bean metadata aware Value...    marko-bekhta   \n",
       "5396  HV-1684 Fix value extraction logic to avoid st...  Guillaume Smet   \n",
       "5397  HV-1684 Fix value extraction logic to avoid st...  Guillaume Smet   \n",
       "5398  HV-1691 Rename PathImpl#getPathWithoutLeafNode...  Guillaume Smet   \n",
       "\n",
       "                    AuthorEmail  \n",
       "5394  marko.prykladna@gmail.com  \n",
       "5395  marko.prykladna@gmail.com  \n",
       "5396   guillaume.smet@gmail.com  \n",
       "5397   guillaume.smet@gmail.com  \n",
       "5398   guillaume.smet@gmail.com  "
      ]
     },
     "execution_count": 3,
     "metadata": {},
     "output_type": "execute_result"
    }
   ],
   "source": [
    "# filter for just the adangel$pmd rows\n",
    "#df_adangle = df_raw[df_raw['Name'] == \"adangel$pmd\"]\n",
    "\n",
    "# filter for just the hibernate$hibernate-validator rows\n",
    "df_hiber = df_raw[df_raw['Name'] == \"hibernate$hibernate-validator\"].copy()\n",
    "\n",
    "# df_hiber.shape  # (5399, 9) same row count as report in phase 1 repoort, check\n",
    "df_hiber.tail()"
   ]
  },
  {
   "cell_type": "code",
   "execution_count": 4,
   "id": "e688ec0d",
   "metadata": {
    "scrolled": true
   },
   "outputs": [
    {
     "data": {
      "text/plain": [
       "engine/src/main/java/org/hibernate/validator/internal/engine/ValidatorImpl.java                                      131\n",
       "engine/src/main/java/org/hibernate/validator/internal/metadata/provider/AnnotationMetaDataProvider.java               98\n",
       "engine/src/main/java/org/hibernate/validator/internal/engine/ConfigurationImpl.java                                   96\n",
       "hibernate-validator/src/main/java/org/hibernate/validator/engine/ValidatorImpl.java                                   84\n",
       "hibernate-validator/src/main/java/org/hibernate/validation/engine/ValidatorImpl.java                                  75\n",
       "engine/src/main/java/org/hibernate/validator/internal/engine/ValidatorFactoryImpl.java                                70\n",
       "hibernate-validator/src/main/java/org/hibernate/validator/metadata/BeanMetaDataImpl.java                              51\n",
       "engine/src/main/java/org/hibernate/validator/internal/engine/constraintvalidation/ConstraintValidatorManager.java     48\n",
       "engine/src/main/java/org/hibernate/validator/internal/util/ReflectionHelper.java                                      48\n",
       "engine/src/main/java/org/hibernate/validator/internal/metadata/aggregated/BeanMetaDataImpl.java                       47\n",
       "Name: FilePath, dtype: int64"
      ]
     },
     "execution_count": 4,
     "metadata": {},
     "output_type": "execute_result"
    }
   ],
   "source": [
    "pd.options.display.max_rows = None\n",
    "# how are file paths distributed\n",
    "# file_types = df_adangle['FilePath'].value_counts()\n",
    "file_types = df_hiber['FilePath'].value_counts()\n",
    "# file_types.shape  # 3139 file types\n",
    "# file_types.shape  # 1609 file types\n",
    "file_types.head(10)"
   ]
  },
  {
   "cell_type": "code",
   "execution_count": 5,
   "id": "2b7f77f4",
   "metadata": {
    "scrolled": true
   },
   "outputs": [
    {
     "data": {
      "text/plain": [
       "'engine/src/main/java/org/hibernate/validator/resourceloading/DelegatingResourceBundleLocator.java,engine/src/main/java/org/hibernate/validator/resourceloading/PlatformResourceBundleLocator.java'"
      ]
     },
     "execution_count": 5,
     "metadata": {},
     "output_type": "execute_result"
    }
   ],
   "source": [
    "# looks like some rows have multiple paths in them\n",
    "# df_adangle['FilePath'].iloc[230]\n",
    "\n",
    "# do any rows in the hibernate project have multiple file paths?\n",
    "# type(file_types)  # pandas.core.series.Series\n",
    "df_hiber['count'] = list(map(lambda x: x.count(\".java\"), df_hiber['FilePath']))\n",
    "# df_hiber.head(10)\n",
    "df_2or_more = df_hiber[df_hiber['count'] >=2].copy()\n",
    "# df_2or_more.shape  # (19, 10)\n",
    "s = df_2or_more['FilePath']\n",
    "# s[1466]  # yep, themultiple file paths are delimited by commas (,)\n",
    "# s[1681]\n",
    "s[2179]\n",
    "# pd.set_option('display.max_columns', 500)\n",
    "# df_2or_more['FilePath']"
   ]
  },
  {
   "cell_type": "code",
   "execution_count": null,
   "id": "40daa7cf",
   "metadata": {},
   "outputs": [],
   "source": []
  },
  {
   "cell_type": "code",
   "execution_count": null,
   "id": "e9d561c3",
   "metadata": {},
   "outputs": [],
   "source": []
  },
  {
   "cell_type": "code",
   "execution_count": 6,
   "id": "b0fff058",
   "metadata": {},
   "outputs": [],
   "source": [
    "# df_paths.to_csv(\"paths.csv\", header=False, index=False)"
   ]
  },
  {
   "cell_type": "code",
   "execution_count": 7,
   "id": "0c6c27de",
   "metadata": {},
   "outputs": [
    {
     "data": {
      "text/plain": [
       "(5380, 11)"
      ]
     },
     "execution_count": 7,
     "metadata": {},
     "output_type": "execute_result"
    }
   ],
   "source": [
    "# How many records have FilePath entries containing more than one path?\n",
    "df_multi_paths = df_hiber[df_hiber['FilePath'].str.contains(',')]\n",
    "# df_multi_paths.shape  # only 19, ~0.35% so remove them\n",
    "df_single_paths = df_hiber[df_hiber['FilePath'].str.contains(',') == False]\n",
    "df_single_paths.reset_index(inplace=True)\n",
    "df_single_paths.shape  # 5380 = 5399 - 19, check"
   ]
  },
  {
   "cell_type": "code",
   "execution_count": 8,
   "id": "ab43d61d",
   "metadata": {},
   "outputs": [
    {
     "data": {
      "text/html": [
       "<div>\n",
       "<style scoped>\n",
       "    .dataframe tbody tr th:only-of-type {\n",
       "        vertical-align: middle;\n",
       "    }\n",
       "\n",
       "    .dataframe tbody tr th {\n",
       "        vertical-align: top;\n",
       "    }\n",
       "\n",
       "    .dataframe thead th {\n",
       "        text-align: right;\n",
       "    }\n",
       "</style>\n",
       "<table border=\"1\" class=\"dataframe\">\n",
       "  <thead>\n",
       "    <tr style=\"text-align: right;\">\n",
       "      <th></th>\n",
       "      <th>RefactoringType</th>\n",
       "      <th>FilePath</th>\n",
       "      <th>AuthorName</th>\n",
       "    </tr>\n",
       "  </thead>\n",
       "  <tbody>\n",
       "    <tr>\n",
       "      <th>0</th>\n",
       "      <td>Move Source Folder</td>\n",
       "      <td>src</td>\n",
       "      <td>Hardy Ferentschik</td>\n",
       "    </tr>\n",
       "    <tr>\n",
       "      <th>1</th>\n",
       "      <td>Move Source Folder</td>\n",
       "      <td>hibernate-validator-legacy/src</td>\n",
       "      <td>Hardy Ferentschik</td>\n",
       "    </tr>\n",
       "    <tr>\n",
       "      <th>2</th>\n",
       "      <td>Move Source Folder</td>\n",
       "      <td>hibernate-validator-legacy/src/test</td>\n",
       "      <td>Hardy Ferentschik</td>\n",
       "    </tr>\n",
       "    <tr>\n",
       "      <th>3</th>\n",
       "      <td>Extract Variable</td>\n",
       "      <td>hibernate-validator/src/main/java/org/hibernat...</td>\n",
       "      <td>Emmanuel Bernard</td>\n",
       "    </tr>\n",
       "    <tr>\n",
       "      <th>4</th>\n",
       "      <td>Rename Method</td>\n",
       "      <td>hibernate-validator/src/main/java/org/hibernat...</td>\n",
       "      <td>Emmanuel Bernard</td>\n",
       "    </tr>\n",
       "  </tbody>\n",
       "</table>\n",
       "</div>"
      ],
      "text/plain": [
       "      RefactoringType                                           FilePath  \\\n",
       "0  Move Source Folder                                                src   \n",
       "1  Move Source Folder                     hibernate-validator-legacy/src   \n",
       "2  Move Source Folder                hibernate-validator-legacy/src/test   \n",
       "3    Extract Variable  hibernate-validator/src/main/java/org/hibernat...   \n",
       "4       Rename Method  hibernate-validator/src/main/java/org/hibernat...   \n",
       "\n",
       "          AuthorName  \n",
       "0  Hardy Ferentschik  \n",
       "1  Hardy Ferentschik  \n",
       "2  Hardy Ferentschik  \n",
       "3   Emmanuel Bernard  \n",
       "4   Emmanuel Bernard  "
      ]
     },
     "execution_count": 8,
     "metadata": {},
     "output_type": "execute_result"
    }
   ],
   "source": [
    "df_design_matrix_unparsed_filepath = df_single_paths[['RefactoringType', 'FilePath', 'AuthorName']].copy()\n",
    "df_design_matrix_unparsed_filepath.head()"
   ]
  },
  {
   "cell_type": "markdown",
   "id": "50d87be5",
   "metadata": {},
   "source": [
    "## Author Groupings\n",
    "\n",
    "Interestingly, the same commit buckets used for the adangel project work fine for the hibernate project.  From the Phase3Explore notebook, we see the following counts in these buckets:\n",
    "\n",
    "+  3 had > 400 commits  (very high frequency committers)\n",
    "+  3 had > 100 and <= 400 commits  (high frequency committers)\n",
    "+  4 had  > 25 and <= 100 commits  (medium frequency committers)\n",
    "+ 12 had <= 25 commits  (low frequency committers)"
   ]
  },
  {
   "cell_type": "code",
   "execution_count": 9,
   "id": "046293d9",
   "metadata": {},
   "outputs": [],
   "source": [
    "# fix the marko.bekhta = marko-bekhta = marko bekhta issue\n",
    "df_design_matrix_unparsed_filepath['AuthorName'] = \\\n",
    "    df_design_matrix_unparsed_filepath['AuthorName'].str.replace('.', ' ', regex=False)\n",
    "df_design_matrix_unparsed_filepath['AuthorName'] = \\\n",
    "    df_design_matrix_unparsed_filepath['AuthorName'].str.replace('-', ' ', regex=False)\n",
    "# fix Davide D'Alto\n",
    "df_design_matrix_unparsed_filepath['AuthorName'] = \\\n",
    "    df_design_matrix_unparsed_filepath['AuthorName'].str.replace(\"'\", \"\", regex=False)\n",
    "# get the committers for each bucket so we can filter on them\n",
    "authors = df_design_matrix_unparsed_filepath['AuthorName'].value_counts()\n",
    "committers_extremely_high = authors[authors > 400].index.to_list()\n",
    "committers_high = authors[(authors > 100) & (authors <= 400)].index.to_list()\n",
    "committers_medium = authors[(authors > 25) & (authors <= 100)].index.to_list()\n",
    "committers_low = authors[(authors < 25)].index.to_list()"
   ]
  },
  {
   "cell_type": "code",
   "execution_count": 10,
   "id": "7fa393fa",
   "metadata": {},
   "outputs": [],
   "source": [
    "df_design_matrix_unparsed_filepath['AuthorGroup'] = \\\n",
    "np.where(df_design_matrix_unparsed_filepath['AuthorName'].isin(committers_extremely_high),\n",
    "         \"extremely high\",\n",
    "         np.where(df_design_matrix_unparsed_filepath['AuthorName'].isin(committers_high),\n",
    "                  \"high\", np.where(df_design_matrix_unparsed_filepath['AuthorName'].isin(committers_medium),\n",
    "                  \"medium\", \"low\")))\n",
    "# check each AuthorGroup\n",
    "# df_design_matrix_unparsed_filepath[df_design_matrix_unparsed_filepath['AuthorName'].isin(committers_extremely_high)]\n",
    "# df_design_matrix_unparsed_filepath[df_design_matrix_unparsed_filepath['AuthorName'].isin(committers_high)]\n",
    "# df_design_matrix_unparsed_filepath[df_design_matrix_unparsed_filepath['AuthorName'].isin(committers_medium)]\n",
    "# df_design_matrix_unparsed_filepath[df_design_matrix_unparsed_filepath['AuthorName'].isin(committers_low)]"
   ]
  },
  {
   "cell_type": "code",
   "execution_count": 11,
   "id": "d8214869",
   "metadata": {},
   "outputs": [
    {
     "data": {
      "text/plain": [
       "Hardy Ferentschik            1641\n",
       "Gunnar Morling               1530\n",
       "Guillaume Smet               1290\n",
       "marko bekhta                  324\n",
       "Emmanuel Bernard              234\n",
       "Kevin Pollet                  115\n",
       "Khalid Alqinyah                96\n",
       "stawny                         31\n",
       "Victor Rezende dos Santos      29\n",
       "Yoann Rodière                  27\n",
       "kevin pollet                   19\n",
       "George Gastaldi                10\n",
       "Davide DAlto                   10\n",
       "Brent Douglas                   5\n",
       "Chris Beckey                    5\n",
       "Nicola Ferraro                  3\n",
       "Shane Bryzak                    3\n",
       "dernasherbrezon                 2\n",
       "Pete Muir                       2\n",
       "Matthias Kurz                   2\n",
       "Carlo de Wolf                   1\n",
       "Tomaz Cerar                     1\n",
       "Name: AuthorName, dtype: int64"
      ]
     },
     "execution_count": 11,
     "metadata": {},
     "output_type": "execute_result"
    }
   ],
   "source": [
    "df_design_matrix_unparsed_filepath['AuthorName'].value_counts()"
   ]
  },
  {
   "cell_type": "code",
   "execution_count": null,
   "id": "f3bd911c",
   "metadata": {},
   "outputs": [],
   "source": []
  },
  {
   "cell_type": "code",
   "execution_count": null,
   "id": "66f5872e",
   "metadata": {},
   "outputs": [],
   "source": []
  },
  {
   "cell_type": "markdown",
   "id": "ef8de779",
   "metadata": {},
   "source": [
    "## Split the file path into columns"
   ]
  },
  {
   "cell_type": "code",
   "execution_count": 12,
   "id": "09681618",
   "metadata": {},
   "outputs": [
    {
     "data": {
      "text/html": [
       "<div>\n",
       "<style scoped>\n",
       "    .dataframe tbody tr th:only-of-type {\n",
       "        vertical-align: middle;\n",
       "    }\n",
       "\n",
       "    .dataframe tbody tr th {\n",
       "        vertical-align: top;\n",
       "    }\n",
       "\n",
       "    .dataframe thead th {\n",
       "        text-align: right;\n",
       "    }\n",
       "</style>\n",
       "<table border=\"1\" class=\"dataframe\">\n",
       "  <thead>\n",
       "    <tr style=\"text-align: right;\">\n",
       "      <th></th>\n",
       "      <th>RefactoringType</th>\n",
       "      <th>FilePath</th>\n",
       "      <th>AuthorName</th>\n",
       "      <th>AuthorGroup</th>\n",
       "      <th>L1</th>\n",
       "      <th>L2</th>\n",
       "      <th>L3</th>\n",
       "      <th>L4</th>\n",
       "      <th>L5</th>\n",
       "      <th>L6</th>\n",
       "    </tr>\n",
       "  </thead>\n",
       "  <tbody>\n",
       "    <tr>\n",
       "      <th>0</th>\n",
       "      <td>Move Source Folder</td>\n",
       "      <td>src</td>\n",
       "      <td>Hardy Ferentschik</td>\n",
       "      <td>extremely high</td>\n",
       "      <td>src</td>\n",
       "      <td>None</td>\n",
       "      <td>None</td>\n",
       "      <td>None</td>\n",
       "      <td>None</td>\n",
       "      <td>None</td>\n",
       "    </tr>\n",
       "    <tr>\n",
       "      <th>1</th>\n",
       "      <td>Move Source Folder</td>\n",
       "      <td>hibernate-validator-legacy/src</td>\n",
       "      <td>Hardy Ferentschik</td>\n",
       "      <td>extremely high</td>\n",
       "      <td>hibernate-validator-legacy</td>\n",
       "      <td>src</td>\n",
       "      <td>None</td>\n",
       "      <td>None</td>\n",
       "      <td>None</td>\n",
       "      <td>None</td>\n",
       "    </tr>\n",
       "    <tr>\n",
       "      <th>2</th>\n",
       "      <td>Move Source Folder</td>\n",
       "      <td>hibernate-validator-legacy/src/test</td>\n",
       "      <td>Hardy Ferentschik</td>\n",
       "      <td>extremely high</td>\n",
       "      <td>hibernate-validator-legacy</td>\n",
       "      <td>src</td>\n",
       "      <td>test</td>\n",
       "      <td>None</td>\n",
       "      <td>None</td>\n",
       "      <td>None</td>\n",
       "    </tr>\n",
       "    <tr>\n",
       "      <th>3</th>\n",
       "      <td>Extract Variable</td>\n",
       "      <td>hibernate-validator/src/main/java/org/hibernat...</td>\n",
       "      <td>Emmanuel Bernard</td>\n",
       "      <td>high</td>\n",
       "      <td>hibernate-validator</td>\n",
       "      <td>src</td>\n",
       "      <td>main</td>\n",
       "      <td>java</td>\n",
       "      <td>org</td>\n",
       "      <td>hibernate/validation/engine/ValidatorImpl.java</td>\n",
       "    </tr>\n",
       "    <tr>\n",
       "      <th>4</th>\n",
       "      <td>Rename Method</td>\n",
       "      <td>hibernate-validator/src/main/java/org/hibernat...</td>\n",
       "      <td>Emmanuel Bernard</td>\n",
       "      <td>high</td>\n",
       "      <td>hibernate-validator</td>\n",
       "      <td>src</td>\n",
       "      <td>main</td>\n",
       "      <td>java</td>\n",
       "      <td>org</td>\n",
       "      <td>hibernate/validation/engine/ValidatorImpl.java</td>\n",
       "    </tr>\n",
       "  </tbody>\n",
       "</table>\n",
       "</div>"
      ],
      "text/plain": [
       "      RefactoringType                                           FilePath  \\\n",
       "0  Move Source Folder                                                src   \n",
       "1  Move Source Folder                     hibernate-validator-legacy/src   \n",
       "2  Move Source Folder                hibernate-validator-legacy/src/test   \n",
       "3    Extract Variable  hibernate-validator/src/main/java/org/hibernat...   \n",
       "4       Rename Method  hibernate-validator/src/main/java/org/hibernat...   \n",
       "\n",
       "          AuthorName     AuthorGroup                          L1    L2    L3  \\\n",
       "0  Hardy Ferentschik  extremely high                         src  None  None   \n",
       "1  Hardy Ferentschik  extremely high  hibernate-validator-legacy   src  None   \n",
       "2  Hardy Ferentschik  extremely high  hibernate-validator-legacy   src  test   \n",
       "3   Emmanuel Bernard            high         hibernate-validator   src  main   \n",
       "4   Emmanuel Bernard            high         hibernate-validator   src  main   \n",
       "\n",
       "     L4    L5                                              L6  \n",
       "0  None  None                                            None  \n",
       "1  None  None                                            None  \n",
       "2  None  None                                            None  \n",
       "3  java   org  hibernate/validation/engine/ValidatorImpl.java  \n",
       "4  java   org  hibernate/validation/engine/ValidatorImpl.java  "
      ]
     },
     "execution_count": 12,
     "metadata": {},
     "output_type": "execute_result"
    }
   ],
   "source": [
    "df_design_matrix_unparsed_filepath[['L1', 'L2', 'L3', 'L4', 'L5', 'L6']] = \\\n",
    "df_design_matrix_unparsed_filepath['FilePath'].str.split('/', 5, expand=True)\n",
    "df_design_matrix = df_design_matrix_unparsed_filepath.copy(deep=False)\n",
    "# df_design_matrix.head()\n",
    "# df_design_matrix_unparsed_filepath.head()\n",
    "df_design_matrix.head()"
   ]
  },
  {
   "cell_type": "code",
   "execution_count": null,
   "id": "e2560c89",
   "metadata": {},
   "outputs": [],
   "source": []
  },
  {
   "cell_type": "code",
   "execution_count": null,
   "id": "c2b57fc8",
   "metadata": {},
   "outputs": [],
   "source": []
  },
  {
   "cell_type": "code",
   "execution_count": null,
   "id": "82868919",
   "metadata": {},
   "outputs": [],
   "source": []
  },
  {
   "cell_type": "code",
   "execution_count": null,
   "id": "c46e50fd",
   "metadata": {},
   "outputs": [],
   "source": []
  },
  {
   "cell_type": "code",
   "execution_count": null,
   "id": "8c9c906b",
   "metadata": {},
   "outputs": [],
   "source": []
  },
  {
   "cell_type": "code",
   "execution_count": null,
   "id": "057a0a77",
   "metadata": {},
   "outputs": [],
   "source": []
  },
  {
   "cell_type": "code",
   "execution_count": null,
   "id": "fbea5e99",
   "metadata": {},
   "outputs": [],
   "source": []
  },
  {
   "cell_type": "code",
   "execution_count": 13,
   "id": "1c25ed93",
   "metadata": {
    "scrolled": true
   },
   "outputs": [
    {
     "data": {
      "text/plain": [
       "engine                                                                     2775\n",
       "hibernate-validator                                                        2022\n",
       "annotation-processor                                                        137\n",
       "documentation                                                               126\n",
       "hibernate-validator-annotation-processor                                     76\n",
       "integration                                                                  68\n",
       "cdi                                                                          46\n",
       "tck-utils                                                                    20\n",
       "test-utils                                                                   18\n",
       "performance                                                                  14\n",
       "validation-api                                                               14\n",
       "osgi                                                                         12\n",
       "org.hibernate.validation.eg                                                   4\n",
       "hibernate-validator-archetype                                                 3\n",
       "hibernate-validator-integrationtest                                           3\n",
       "org.hibernate.validation.eg.constraint                                        2\n",
       "engine-jdk8-tests                                                             2\n",
       "hibernate-validator-legacy                                                    2\n",
       "org.hibernate.validator.referenceguide.chapter07                              2\n",
       "org.hibernate.validator.referenceguide.chapter03.cascaded.collection          1\n",
       "org.hibernate.validator.cfg.scriptengine                                      1\n",
       "org.hibernate.validator.referenceguide.chapter03                              1\n",
       "org.hibernate.validator.referenceguide.chapter03.groups                       1\n",
       "org.hibernate.validator.test.internal.engine.valueunwrapping                  1\n",
       "org.hibernate.validator.integration.jbossas7                                  1\n",
       "org.hibernate.validator.test.internal.engine.valuehandling                    1\n",
       "org.hibernate.validator.referenceguide.chapter02.objectgraph.list             1\n",
       "org.hibernate.validator.testutil                                              1\n",
       "org.hibernate.validator.test.internal.engine.methodlevel                      1\n",
       "org.hibernate.validator.internal.cdi                                          1\n",
       "org.hibernate.validator.test.internal.cdi                                     1\n",
       "org.hibernate.validator.internal.engine.cascading                             1\n",
       "src                                                                           1\n",
       "org.hibernate.validator.test.internal.engine.groups.groupchain                1\n",
       "hibernate-validator-perftest                                                  1\n",
       "org.hibernate.validator.quickstart                                            1\n",
       "org.hibernate.validation.impl                                                 1\n",
       "org.hibernate.validation.engine.group                                         1\n",
       "org.hibernate.validation.eg.groups                                            1\n",
       "org.hibernate.validation.constraints.custom                                   1\n",
       "org.hibernate.validation                                                      1\n",
       "org.hibernate.validator.constraints.impl.scriptassert                         1\n",
       "org.hibernate.validator.test.engine.groups.provider                           1\n",
       "org.hibernate.validator.test.engine.groups.evaluation                         1\n",
       "org.hibernate.validator.test.internal.engine.groups.groupchaingenerator       1\n",
       "org.hibernate.validator.test.group.model                                      1\n",
       "org.hibernate.validator.metadata.constrained                                  1\n",
       "org.hibernate.validator.constraints.impl                                      1\n",
       "org.hibernate.validator.test.constraints.impl                                 1\n",
       "org.hibernate.validator.cfg.context.impl                                      1\n",
       "org.hibernate.validator.internal.constraints                                  1\n",
       "org.hibernate.validator.test.internal.validators                              1\n",
       "org.hibernate.validator.internal.util.annotationfactory                       1\n",
       "Name: L1, dtype: int64"
      ]
     },
     "execution_count": 13,
     "metadata": {},
     "output_type": "execute_result"
    }
   ],
   "source": [
    "# how many instances at each level?\n",
    "# df_design_matrix['L1'].value_counts().shape  # 53 at the top level, but 34 singletons\n",
    "df_design_matrix['L1'].value_counts()"
   ]
  },
  {
   "cell_type": "code",
   "execution_count": 14,
   "id": "fa3fe26b",
   "metadata": {},
   "outputs": [
    {
     "data": {
      "text/plain": [
       "(6,)"
      ]
     },
     "execution_count": 14,
     "metadata": {},
     "output_type": "execute_result"
    }
   ],
   "source": [
    "df_design_matrix['L2'].value_counts().shape  # 6 (16 adangle) at the 2nd level\n",
    "# df_design_matrix['L2'].value_counts()"
   ]
  },
  {
   "cell_type": "code",
   "execution_count": 15,
   "id": "a0a1dab2",
   "metadata": {
    "scrolled": true
   },
   "outputs": [
    {
     "data": {
      "text/plain": [
       "main              3894\n",
       "test              1360\n",
       "src                 71\n",
       "cdi-validation       2\n",
       "Name: L3, dtype: int64"
      ]
     },
     "execution_count": 15,
     "metadata": {},
     "output_type": "execute_result"
    }
   ],
   "source": [
    "# df_design_matrix['L3'].value_counts().shape  # 4 (47 adangle) at the 3rd level, but only the top 3 (7) look relevant\n",
    "df_design_matrix['L3'].value_counts()"
   ]
  },
  {
   "cell_type": "code",
   "execution_count": 16,
   "id": "4b22d93f",
   "metadata": {},
   "outputs": [
    {
     "data": {
      "text/plain": [
       "java        5251\n",
       "test          68\n",
       "main           3\n",
       "src            2\n",
       "java-bv2       1\n",
       "Name: L4, dtype: int64"
      ]
     },
     "execution_count": 16,
     "metadata": {},
     "output_type": "execute_result"
    }
   ],
   "source": [
    "# df_design_matrix['L4'].value_counts().shape  # 5 (16 adangle) at the 4th level, top 2 look relevant, 1 singleton\n",
    "df_design_matrix['L4'].value_counts()"
   ]
  },
  {
   "cell_type": "code",
   "execution_count": 17,
   "id": "bd913014",
   "metadata": {},
   "outputs": [
    {
     "data": {
      "text/plain": [
       "org      5237\n",
       "java       71\n",
       "javax      14\n",
       "com         1\n",
       "test        1\n",
       "main        1\n",
       "Name: L5, dtype: int64"
      ]
     },
     "execution_count": 17,
     "metadata": {},
     "output_type": "execute_result"
    }
   ],
   "source": [
    "# df_design_matrix['L5'].value_counts().shape  # 6 (14 adangle) at the 5th level, top 3 look relevant, 3 singletons\n",
    "df_design_matrix['L5'].value_counts()"
   ]
  },
  {
   "cell_type": "code",
   "execution_count": null,
   "id": "36134adc",
   "metadata": {},
   "outputs": [],
   "source": []
  },
  {
   "cell_type": "code",
   "execution_count": 18,
   "id": "20d36385",
   "metadata": {
    "scrolled": true
   },
   "outputs": [],
   "source": [
    "df_design_matrix.to_csv(\"df_design_matrix_hibernate.csv\", header=True, index=False)"
   ]
  },
  {
   "cell_type": "code",
   "execution_count": null,
   "id": "cbdc4e56",
   "metadata": {},
   "outputs": [],
   "source": []
  },
  {
   "cell_type": "code",
   "execution_count": null,
   "id": "a60c7c63",
   "metadata": {},
   "outputs": [],
   "source": []
  },
  {
   "cell_type": "code",
   "execution_count": null,
   "id": "fe0253f4",
   "metadata": {},
   "outputs": [],
   "source": []
  },
  {
   "cell_type": "code",
   "execution_count": null,
   "id": "902b6b3b",
   "metadata": {},
   "outputs": [],
   "source": []
  },
  {
   "cell_type": "code",
   "execution_count": null,
   "id": "7677a2fb",
   "metadata": {},
   "outputs": [],
   "source": []
  }
 ],
 "metadata": {
  "kernelspec": {
   "display_name": "Python 3 (ipykernel)",
   "language": "python",
   "name": "python3"
  },
  "language_info": {
   "codemirror_mode": {
    "name": "ipython",
    "version": 3
   },
   "file_extension": ".py",
   "mimetype": "text/x-python",
   "name": "python",
   "nbconvert_exporter": "python",
   "pygments_lexer": "ipython3",
   "version": "3.10.1"
  }
 },
 "nbformat": 4,
 "nbformat_minor": 5
}
