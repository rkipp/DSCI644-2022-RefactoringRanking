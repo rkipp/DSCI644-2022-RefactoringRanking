{
 "cells": [
  {
   "cell_type": "code",
   "execution_count": 46,
   "metadata": {},
   "outputs": [],
   "source": [
    "import pandas as pd\n",
    "import numpy as np\n",
    "from numpy import mean\n",
    "from sklearn.datasets import make_classification\n",
    "from sklearn.model_selection import cross_val_score\n",
    "from sklearn.model_selection import RepeatedStratifiedKFold\n",
    "from sklearn.ensemble import BaggingClassifier\n",
    "from sklearn.svm import SVC\n",
    "from sklearn import preprocessing\n",
    "from sklearn.model_selection import train_test_split\n",
    "from sklearn.ensemble import RandomForestClassifier\n",
    "from sklearn import metrics\n",
    "from sklearn.metrics import classification_report, confusion_matrix, accuracy_score\n",
    "from sklearn.model_selection import cross_val_score\n",
    "from sklearn.preprocessing import label_binarize"
   ]
  },
  {
   "cell_type": "code",
   "execution_count": 47,
   "metadata": {},
   "outputs": [],
   "source": [
    "raw = pd.read_csv('../Data/df_design_matrix.csv')\n",
    "print(raw.columns)\n",
    "features = ['RefactoringType', 'L1', 'L2', 'L3', 'L4', 'L5', 'L6']\n",
    "output = 'AuthorGroup'\n",
    "df = raw[['RefactoringType', 'L1', 'L2', 'L3', 'L4', 'L5', 'L6', 'AuthorGroup']]\n",
    "\n",
    "le = {}\n",
    "for col in features:\n",
    "    le[col] = preprocessing.LabelEncoder()\n",
    "    le[col].fit(raw[col])\n",
    "    df[col] = le[col].transform(raw[col])\n",
    "le[output] = preprocessing.LabelEncoder()\n",
    "le[output].fit(raw[output])\n",
    "df[output] = le[output].transform(raw[output])\n",
    "X = df[features]\n",
    "y = df[output]\n",
    "y = y.astype(np.uint8)\n",
    "n_classes = len(set(y))\n",
    "Y = label_binarize(y, classes=[*range(n_classes)])"
   ]
  },
  {
   "cell_type": "code",
   "execution_count": 62,
   "metadata": {},
   "outputs": [
    {
     "name": "stdout",
     "output_type": "stream",
     "text": [
      "Pre-OverSampling:    [(0, 5940), (1, 1772), (2, 315), (3, 388)]\n",
      "PostOverSampling:    [(0, 5940), (1, 5940), (2, 5940), (3, 5940)]\n"
     ]
    }
   ],
   "source": [
    "from imblearn.over_sampling import SMOTE, ADASYN\n",
    "from collections import Counter\n",
    "print(\"Pre-OverSampling:   \", sorted(Counter(y).items()))\n",
    "X_resampled, y_resampled = SMOTE().fit_resample(X, y)\n",
    "print(\"PostOverSampling:   \", sorted(Counter(y_resampled).items()))\n",
    "# X_resampled, y_resampled = ADASYN().fit_resample(X, y)\n",
    "# print(sorted(Counter(y_resampled).items()))"
   ]
  },
  {
   "cell_type": "code",
   "execution_count": 63,
   "metadata": {},
   "outputs": [
    {
     "data": {
      "text/plain": [
       "array([[1, 0, 0, 0],\n",
       "       [1, 0, 0, 0],\n",
       "       [1, 0, 0, 0],\n",
       "       ...,\n",
       "       [1, 0, 0, 0],\n",
       "       [1, 0, 0, 0],\n",
       "       [1, 0, 0, 0]])"
      ]
     },
     "execution_count": 63,
     "metadata": {},
     "output_type": "execute_result"
    }
   ],
   "source": [
    "Y"
   ]
  },
  {
   "cell_type": "code",
   "execution_count": 83,
   "metadata": {},
   "outputs": [
    {
     "name": "stdout",
     "output_type": "stream",
     "text": [
      "30 =================================================== 42\n",
      "Mean Absolute Error: 11.692473892689954\n",
      "Mean Squared Error: 0.2412675549153763\n",
      "Root Mean Squared Error: 0.49118993771796293\n",
      "[[1903   40   22   14]\n",
      " [  59  515    7   10]\n",
      " [  48    3   49    4]\n",
      " [  11    2    4   86]]\n",
      "                precision    recall  f1-score   support\n",
      "\n",
      "extremely high       0.94      0.96      0.95      1979\n",
      "          high       0.92      0.87      0.89       591\n",
      "           low       0.60      0.47      0.53       104\n",
      "        medium       0.75      0.83      0.79       103\n",
      "\n",
      "      accuracy                           0.92      2777\n",
      "     macro avg       0.80      0.78      0.79      2777\n",
      "  weighted avg       0.92      0.92      0.92      2777\n",
      "\n",
      "0.9193374144760533\n"
     ]
    },
    {
     "ename": "NameError",
     "evalue": "name 'scores' is not defined",
     "output_type": "error",
     "traceback": [
      "\u001b[0;31m---------------------------------------------------------------------------\u001b[0m",
      "\u001b[0;31mNameError\u001b[0m                                 Traceback (most recent call last)",
      "\u001b[0;32m<ipython-input-83-2ac0cf6502bf>\u001b[0m in \u001b[0;36m<module>\u001b[0;34m\u001b[0m\n\u001b[1;32m     18\u001b[0m         \u001b[0mprint\u001b[0m\u001b[0;34m(\u001b[0m\u001b[0mclassification_report\u001b[0m\u001b[0;34m(\u001b[0m\u001b[0mle\u001b[0m\u001b[0;34m[\u001b[0m\u001b[0;34m'AuthorGroup'\u001b[0m\u001b[0;34m]\u001b[0m\u001b[0;34m.\u001b[0m\u001b[0minverse_transform\u001b[0m\u001b[0;34m(\u001b[0m\u001b[0my_test\u001b[0m\u001b[0;34m)\u001b[0m\u001b[0;34m,\u001b[0m\u001b[0mle\u001b[0m\u001b[0;34m[\u001b[0m\u001b[0;34m'AuthorGroup'\u001b[0m\u001b[0;34m]\u001b[0m\u001b[0;34m.\u001b[0m\u001b[0minverse_transform\u001b[0m\u001b[0;34m(\u001b[0m\u001b[0my_pred\u001b[0m\u001b[0;34m)\u001b[0m\u001b[0;34m)\u001b[0m\u001b[0;34m)\u001b[0m\u001b[0;34m\u001b[0m\u001b[0;34m\u001b[0m\u001b[0m\n\u001b[1;32m     19\u001b[0m         \u001b[0mprint\u001b[0m\u001b[0;34m(\u001b[0m\u001b[0maccuracy_score\u001b[0m\u001b[0;34m(\u001b[0m\u001b[0mle\u001b[0m\u001b[0;34m[\u001b[0m\u001b[0;34m'AuthorGroup'\u001b[0m\u001b[0;34m]\u001b[0m\u001b[0;34m.\u001b[0m\u001b[0minverse_transform\u001b[0m\u001b[0;34m(\u001b[0m\u001b[0my_test\u001b[0m\u001b[0;34m)\u001b[0m\u001b[0;34m,\u001b[0m\u001b[0mle\u001b[0m\u001b[0;34m[\u001b[0m\u001b[0;34m'AuthorGroup'\u001b[0m\u001b[0;34m]\u001b[0m\u001b[0;34m.\u001b[0m\u001b[0minverse_transform\u001b[0m\u001b[0;34m(\u001b[0m\u001b[0my_pred\u001b[0m\u001b[0;34m)\u001b[0m\u001b[0;34m)\u001b[0m\u001b[0;34m)\u001b[0m\u001b[0;34m\u001b[0m\u001b[0;34m\u001b[0m\u001b[0m\n\u001b[0;32m---> 20\u001b[0;31m         \u001b[0mscores\u001b[0m\u001b[0;34m.\u001b[0m\u001b[0mappend\u001b[0m\u001b[0;34m(\u001b[0m\u001b[0maccuracy_score\u001b[0m\u001b[0;34m(\u001b[0m\u001b[0mle\u001b[0m\u001b[0;34m[\u001b[0m\u001b[0;34m'AuthorGroup'\u001b[0m\u001b[0;34m]\u001b[0m\u001b[0;34m.\u001b[0m\u001b[0minverse_transform\u001b[0m\u001b[0;34m(\u001b[0m\u001b[0my_test\u001b[0m\u001b[0;34m)\u001b[0m\u001b[0;34m,\u001b[0m\u001b[0mle\u001b[0m\u001b[0;34m[\u001b[0m\u001b[0;34m'AuthorGroup'\u001b[0m\u001b[0;34m]\u001b[0m\u001b[0;34m.\u001b[0m\u001b[0minverse_transform\u001b[0m\u001b[0;34m(\u001b[0m\u001b[0my_pred\u001b[0m\u001b[0;34m)\u001b[0m\u001b[0;34m)\u001b[0m\u001b[0;34m)\u001b[0m\u001b[0;34m\u001b[0m\u001b[0;34m\u001b[0m\u001b[0m\n\u001b[0m",
      "\u001b[0;31mNameError\u001b[0m: name 'scores' is not defined"
     ]
    }
   ],
   "source": [
    "random = 42\n",
    "scores = []\n",
    "for random in [42]:\n",
    "        print(num, \"===================================================\",random)\n",
    "        X_train, X_test, y_train, y_test = train_test_split(X,y , test_size=.33, random_state=random)\n",
    "\n",
    "\n",
    "\n",
    "        clf = RandomForestClassifier(n_estimators=num, max_depth=30, random_state=random)\n",
    "        clf.fit(X_train, y_train)\n",
    "        y_pred = clf.predict(X_test)\n",
    "\n",
    "        print('Mean Absolute Error:', metrics.mean_absolute_error(y_test, y_pred))\n",
    "        print('Mean Squared Error:', metrics.mean_squared_error(y_test, y_pred))\n",
    "        print('Root Mean Squared Error:', np.sqrt(metrics.mean_squared_error(y_test, y_pred)))\n",
    "\n",
    "\n",
    "        print(confusion_matrix(le['AuthorGroup'].inverse_transform(y_test),le['AuthorGroup'].inverse_transform(y_pred)))\n",
    "        print(classification_report(le['AuthorGroup'].inverse_transform(y_test),le['AuthorGroup'].inverse_transform(y_pred)))\n",
    "        print(accuracy_score(le['AuthorGroup'].inverse_transform(y_test),le['AuthorGroup'].inverse_transform(y_pred)))\n",
    "        scores.append(accuracy_score(le['AuthorGroup'].inverse_transform(y_test),le['AuthorGroup'].inverse_transform(y_pred)))"
   ]
  },
  {
   "cell_type": "code",
   "execution_count": 52,
   "metadata": {},
   "outputs": [],
   "source": [
    "from sklearn.metrics import roc_curve\n",
    "from sklearn.metrics import roc_auc_score\n",
    "from matplotlib import pyplot\n",
    "from sklearn.metrics import precision_recall_curve\n"
   ]
  },
  {
   "cell_type": "code",
   "execution_count": 80,
   "metadata": {},
   "outputs": [
    {
     "data": {
      "image/png": "[encoded data removed]",
      "text/plain": [
       "<Figure size 432x288 with 1 Axes>"
      ]
     },
     "metadata": {
      "needs_background": "light"
     },
     "output_type": "display_data"
    }
   ],
   "source": [
    "import matplotlib.pyplot as plt\n",
    "# precision recall curve\n",
    "precision = dict()\n",
    "recall = dict()\n",
    "for i in range(4):\n",
    "    y_score = clf.predict_proba(X_test)[:, i]\n",
    "    precision[i], recall[i], _ = precision_recall_curve(y_test[:]==i,\n",
    "                                                        y_score[:])\n",
    "    plt.plot(recall[i], precision[i], lw=2, label='class {}'.format(le[output].inverse_transform([i])[0]))\n",
    "    \n",
    "plt.xlabel(\"recall\")\n",
    "plt.ylabel(\"precision\")\n",
    "plt.legend(loc=\"best\")\n",
    "plt.title(\"precision vs. recall curve\")\n",
    "plt.show()"
   ]
  },
  {
   "cell_type": "code",
   "execution_count": 78,
   "metadata": {},
   "outputs": [
    {
     "data": {
      "image/png": "[encoded data removed]",
      "text/plain": [
       "<Figure size 432x288 with 1 Axes>"
      ]
     },
     "metadata": {
      "needs_background": "light"
     },
     "output_type": "display_data"
    }
   ],
   "source": [
    "fpr = dict()\n",
    "tpr = dict()\n",
    "\n",
    "for i in range(n_classes):\n",
    "    y_score = clf.predict_proba(X_test)[:, i]\n",
    "    fpr[i], tpr[i], _ = roc_curve(y_test[:]==i,\n",
    "                                  y_score[:])\n",
    "    plt.plot(fpr[i], tpr[i], lw=2, label='class {}'.format(le[output].inverse_transform([i])[0]))\n",
    "\n",
    "plt.xlabel(\"false positive rate\")\n",
    "plt.ylabel(\"true positive rate\")\n",
    "plt.legend(loc=\"best\")\n",
    "plt.title(\"ROC curve\")\n",
    "plt.show()"
   ]
  },
  {
   "cell_type": "code",
   "execution_count": null,
   "metadata": {},
   "outputs": [],
   "source": []
  }
 ],
 "metadata": {
  "kernelspec": {
   "display_name": "Python 3",
   "language": "python",
   "name": "python3"
  },
  "language_info": {
   "codemirror_mode": {
    "name": "ipython",
    "version": 3
   },
   "file_extension": ".py",
   "mimetype": "text/x-python",
   "name": "python",
   "nbconvert_exporter": "python",
   "pygments_lexer": "ipython3",
   "version": "3.9.1"
  }
 },
 "nbformat": 4,
 "nbformat_minor": 4
}
